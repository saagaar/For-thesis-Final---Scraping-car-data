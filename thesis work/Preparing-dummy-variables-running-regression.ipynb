{
 "cells": [
  {
   "cell_type": "code",
   "execution_count": 15,
   "metadata": {},
   "outputs": [],
   "source": [
    "import pandas as pd\n",
    "import numpy as np\n",
    "import matplotlib.pyplot as plt\n",
    "import seaborn as sns\n",
    "\n"
   ]
  },
  {
   "cell_type": "markdown",
   "metadata": {},
   "source": []
  },
  {
   "cell_type": "code",
   "execution_count": 51,
   "metadata": {},
   "outputs": [
    {
     "name": "stdout",
     "output_type": "stream",
     "text": [
      "<class 'pandas.core.frame.DataFrame'>\n",
      "RangeIndex: 3406 entries, 0 to 3405\n",
      "Data columns (total 15 columns):\n",
      " #   Column      Non-Null Count  Dtype  \n",
      "---  ------      --------------  -----  \n",
      " 0   1           3406 non-null   int64  \n",
      " 1   PRICE       3406 non-null   object \n",
      " 2   BRANDNAME   3406 non-null   object \n",
      " 3   MAKEYEAR    3386 non-null   float64\n",
      " 4   FUEL        3406 non-null   object \n",
      " 5   KM          2811 non-null   object \n",
      " 6   BODY        3406 non-null   object \n",
      " 7   GEARBOX     3406 non-null   object \n",
      " 8   DRIVE       3406 non-null   object \n",
      " 9   COLOR       3406 non-null   object \n",
      " 10  POSTDATE    3405 non-null   object \n",
      " 11  MILEAGE     1676 non-null   object \n",
      " 12  ENGINE(CC)  2802 non-null   object \n",
      " 13  KM_INT      2394 non-null   float64\n",
      " 14  PRICE_NEW   3406 non-null   int64  \n",
      "dtypes: float64(2), int64(2), object(11)\n",
      "memory usage: 399.3+ KB\n"
     ]
    }
   ],
   "source": [
    "\n",
    "working_file_path='M2-1 Working on thesis paper.xlsx'\n",
    "df = pd.read_excel(working_file_path,sheet_name='All Data')\n",
    "df.info()"
   ]
  },
  {
   "cell_type": "code",
   "execution_count": 56,
   "metadata": {},
   "outputs": [
    {
     "name": "stdout",
     "output_type": "stream",
     "text": [
      "<class 'pandas.core.frame.DataFrame'>\n",
      "Index: 2391 entries, 0 to 3387\n",
      "Data columns (total 13 columns):\n",
      " #   Column      Non-Null Count  Dtype  \n",
      "---  ------      --------------  -----  \n",
      " 0   1           2391 non-null   int64  \n",
      " 1   PRICE       2391 non-null   object \n",
      " 2   BRANDNAME   2391 non-null   object \n",
      " 3   MAKEYEAR    2391 non-null   float64\n",
      " 4   FUEL        2391 non-null   object \n",
      " 5   BODY        2391 non-null   object \n",
      " 6   GEARBOX     2391 non-null   object \n",
      " 7   DRIVE       2391 non-null   object \n",
      " 8   COLOR       2391 non-null   object \n",
      " 9   POSTDATE    2391 non-null   object \n",
      " 10  ENGINE(CC)  2391 non-null   object \n",
      " 11  KM_INT      2391 non-null   float64\n",
      " 12  PRICE_NEW   2391 non-null   int64  \n",
      "dtypes: float64(2), int64(2), object(9)\n",
      "memory usage: 261.5+ KB\n"
     ]
    }
   ],
   "source": [
    "df1=df.drop('MILEAGE', axis=1)\n",
    "df1=df1.drop('KM', axis=1)\n",
    "df1.dropna(inplace=True)\n",
    "\n",
    "df1.info()\n",
    "# Display or use the filtered DataFrame as needed\n",
    "# df2 = df.loc[:, [\"MAKEYEAR\", \"KM_INT\",\"PRICE_NEW\",\"BRANDNAME\",\"FUEL\",\"BODY\",\"GEARBOX\",\"DRIVE\",\"COLOR\"]]\n",
    "# df2.dropna(inplace=True)\n",
    "# df2.info()"
   ]
  },
  {
   "cell_type": "code",
   "execution_count": 27,
   "metadata": {},
   "outputs": [
    {
     "data": {
      "text/plain": [
       "2413"
      ]
     },
     "execution_count": 27,
     "metadata": {},
     "output_type": "execute_result"
    }
   ],
   "source": [
    "# df2 = df2.dropna(subset=['KM_INT'])\n",
    "\n",
    "# # If you want to reset the index after removing rows\n",
    "# df2 = df2.reset_index(drop=True)\n",
    "\n",
    "pd.set_option('display.max_rows', None)\n"
   ]
  },
  {
   "cell_type": "code",
   "execution_count": 141,
   "metadata": {},
   "outputs": [
    {
     "data": {
      "text/plain": [
       "3496"
      ]
     },
     "execution_count": 141,
     "metadata": {},
     "output_type": "execute_result"
    }
   ],
   "source": [
    "#Removing all empty columns except KM_INT(distance travelled)\n",
    "\n",
    "withNullKMDataFrame = newDf.dropna(subset=['MAKEYEAR', 'BODY','DRIVE','FUEL','BRANDNAME','GEARBOX','PRICE_NEW'])\n",
    "len(withNullKMDataFrame)"
   ]
  },
  {
   "cell_type": "code",
   "execution_count": 142,
   "metadata": {},
   "outputs": [
    {
     "data": {
      "text/plain": [
       "2865"
      ]
     },
     "execution_count": 142,
     "metadata": {},
     "output_type": "execute_result"
    }
   ],
   "source": [
    "#Drop specific Rows  with specific columns That  are null or empty\n",
    "\n",
    "withoutNullKMDataFrame = newDf.dropna(subset=['MAKEYEAR', 'BODY','DRIVE','FUEL','BRANDNAME','GEARBOX','KM_INT','PRICE_NEW'])\n",
    "len(withoutNullKMDataFrame)"
   ]
  },
  {
   "cell_type": "code",
   "execution_count": 143,
   "metadata": {},
   "outputs": [
    {
     "data": {
      "text/plain": [
       "COLOR\n",
       "White               544\n",
       "Silver              395\n",
       "Grey                152\n",
       "Other               146\n",
       "silver              140\n",
       "                   ... \n",
       "ALICE BLUE            1\n",
       "Urban Titanium        1\n",
       "bule                  1\n",
       "light Blue            1\n",
       "Moon dust Silver      1\n",
       "Name: count, Length: 425, dtype: int64"
      ]
     },
     "execution_count": 143,
     "metadata": {},
     "output_type": "execute_result"
    }
   ],
   "source": [
    "withoutNullKMDataFrame['COLOR'].value_counts()"
   ]
  },
  {
   "cell_type": "code",
   "execution_count": null,
   "metadata": {},
   "outputs": [],
   "source": [
    "#plot the data in scatter plot\n",
    "import matplotlib.pyplot as plt\n",
    "\n",
    "\n",
    "plt.scatter(df2[\"MAKEYEAR\"], df2[\"KM_INT\"])\n",
    "plt.show()"
   ]
  },
  {
   "cell_type": "code",
   "execution_count": null,
   "metadata": {},
   "outputs": [],
   "source": [
    "#Running Linear regression for Make year and km\n",
    "\n",
    "from sklearn.linear_model import LinearRegression\n",
    "from sklearn.model_selection import train_test_split\n",
    "from sklearn.metrics import mean_squared_error, r2_score\n",
    "import seaborn as sns\n",
    "\n",
    "X = df2['MAKEYEAR']\n",
    "y = df2[\"KM_INT\"]\n",
    "# print(X,y);\n",
    "sns.lmplot(x='MAKEYEAR', y='KM_INT', data=df2, ci=None, line_kws={'color': 'red'})\n",
    "plt.xlabel('Year')\n",
    "plt.ylabel('Distance Travelled')\n",
    "plt.title('Linear Regression: Year vs Distance Travelled')\n",
    "plt.show()"
   ]
  },
  {
   "cell_type": "code",
   "execution_count": null,
   "metadata": {},
   "outputs": [],
   "source": [
    "\n",
    "import pandas as pd\n",
    "from sklearn.model_selection import train_test_split\n",
    "from sklearn.linear_model import LinearRegression\n",
    "from sklearn import metrics\n",
    "import matplotlib.pyplot as plt\n",
    "\n",
    "years_2d = np.array(df2['MAKEYEAR']).reshape(-1, 1)\n",
    "X = years_2d  # Features\n",
    "y = df2['KM_INT']  # Target variable\n",
    "\n",
    "X_train, X_test, y_train, y_test = train_test_split(X, y, test_size=0.2, random_state=42)\n",
    "\n",
    "# Create a linear regression model\n",
    "model = LinearRegression()\n",
    "\n",
    "# By Earlier model using training set\n",
    "# # Train the model\n",
    "# model.fit(X_train, y_train)\n",
    "\n",
    "# # Make predictions on the test set\n",
    "# y_pred = model.predict(X_test)\n",
    "# print('Mean Absolute Error:', metrics.mean_absolute_error(y_test, y_pred))\n",
    "# print('Mean Squared Error:', metrics.mean_squared_error(y_test, y_pred))\n",
    "# print('Root Mean Squared Error:', metrics.mean_squared_error(y_test, y_pred, squared=False))\n",
    "\n",
    "\n",
    "# By Sagar Chapagain using initial set\n",
    "model.fit(X, y)\n",
    "y_pred = model.predict(X)\n",
    "\n",
    "r2=r2_score(y, y_pred);\n",
    "\n",
    "print(\"Number of samples in X:\", y_pred.shape[0])\n",
    "print(\"Number of samples in y:\", y.shape[0])\n",
    "# print('Mean Absolute Error:', metrics.mean_absolute_error(y_test, y_pred))\n",
    "# print('Mean Squared Error:', metrics.mean_squared_error(y_test, y_pred))\n",
    "# print('Root Mean Squared Error:', metrics.mean_squared_error(y_test, y_pred, squared=False))\n",
    "print(\"R2 score is : \",r2)\n",
    "\n",
    "#calculate r squared value\n",
    "# Evaluate the model\n",
    "\n",
    "# Plot the regression line\n",
    "plt.scatter(X_train, y_test, color='black')\n",
    "plt.plot(X_test, y_pred, color='blue', linewidth=3)\n",
    "plt.xlabel('Year')\n",
    "plt.ylabel('Distance Travelled')\n",
    "plt.title('Linear Regression: Year vs Distance Travelled')\n",
    "plt.show()"
   ]
  },
  {
   "cell_type": "code",
   "execution_count": null,
   "metadata": {},
   "outputs": [],
   "source": [
    "df2[\"MAKEYEAR\"].value_counts()\n"
   ]
  },
  {
   "cell_type": "code",
   "execution_count": null,
   "metadata": {},
   "outputs": [],
   "source": [
    "df2[\"KM_INT\"].describe()"
   ]
  },
  {
   "cell_type": "code",
   "execution_count": null,
   "metadata": {},
   "outputs": [],
   "source": [
    "zerokm_filter = (df2[\"KM_INT\"] == 0)\n",
    "\n",
    "df2[zerokm_filter]"
   ]
  },
  {
   "cell_type": "markdown",
   "metadata": {},
   "source": [
    "https://www.youtube.com/watch?v=Wqmtf9SA_kk&ab_channel=NeuralNine\n",
    "https://www.youtube.com/watch?v=xu0prYu5e-c&ab_channel=AliNasserEddine"
   ]
  }
 ],
 "metadata": {
  "kernelspec": {
   "display_name": "carsScrape-7_zlvukO",
   "language": "python",
   "name": "python3"
  },
  "language_info": {
   "codemirror_mode": {
    "name": "ipython",
    "version": 3
   },
   "file_extension": ".py",
   "mimetype": "text/x-python",
   "name": "python",
   "nbconvert_exporter": "python",
   "pygments_lexer": "ipython3",
   "version": "3.9.13"
  }
 },
 "nbformat": 4,
 "nbformat_minor": 2
}
