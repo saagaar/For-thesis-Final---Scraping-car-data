{
 "cells": [
  {
   "cell_type": "code",
   "execution_count": 87,
   "metadata": {},
   "outputs": [],
   "source": [
    "import pandas as pd\n",
    "import numpy as np\n",
    "import matplotlib.pyplot as plt\n",
    "import seaborn as sns\n"
   ]
  },
  {
   "cell_type": "markdown",
   "metadata": {},
   "source": []
  },
  {
   "cell_type": "code",
   "execution_count": 88,
   "metadata": {},
   "outputs": [
    {
     "name": "stdout",
     "output_type": "stream",
     "text": [
      "<class 'pandas.core.frame.DataFrame'>\n",
      "RangeIndex: 3406 entries, 0 to 3405\n",
      "Data columns (total 15 columns):\n",
      " #   Column      Non-Null Count  Dtype  \n",
      "---  ------      --------------  -----  \n",
      " 0   1           3406 non-null   int64  \n",
      " 1   PRICE       3406 non-null   object \n",
      " 2   BRANDNAME   3406 non-null   object \n",
      " 3   MAKEYEAR    3386 non-null   float64\n",
      " 4   FUEL        3406 non-null   object \n",
      " 5   KM          2811 non-null   object \n",
      " 6   BODY        3406 non-null   object \n",
      " 7   GEARBOX     3406 non-null   object \n",
      " 8   DRIVE       3406 non-null   object \n",
      " 9   COLOR       3406 non-null   object \n",
      " 10  POSTDATE    3405 non-null   object \n",
      " 11  MILEAGE     1676 non-null   object \n",
      " 12  ENGINE(CC)  2802 non-null   float64\n",
      " 13  KM_INT      2394 non-null   float64\n",
      " 14  PRICE_NEW   3406 non-null   int64  \n",
      "dtypes: float64(3), int64(2), object(10)\n",
      "memory usage: 399.3+ KB\n"
     ]
    }
   ],
   "source": [
    "# REading file and getting to know the data\n",
    "working_file_path='M2-1 Working on thesis paper.xlsx'\n",
    "df = pd.read_excel(working_file_path,sheet_name='All Data')\n",
    "df.info()"
   ]
  },
  {
   "cell_type": "code",
   "execution_count": 89,
   "metadata": {},
   "outputs": [
    {
     "name": "stdout",
     "output_type": "stream",
     "text": [
      "<class 'pandas.core.frame.DataFrame'>\n",
      "RangeIndex: 3406 entries, 0 to 3405\n",
      "Data columns (total 9 columns):\n",
      " #   Column     Non-Null Count  Dtype  \n",
      "---  ------     --------------  -----  \n",
      " 0   MAKEYEAR   3386 non-null   float64\n",
      " 1   KM_INT     2394 non-null   float64\n",
      " 2   PRICE_NEW  3406 non-null   int64  \n",
      " 3   BRANDNAME  3406 non-null   object \n",
      " 4   FUEL       3406 non-null   object \n",
      " 5   BODY       3406 non-null   object \n",
      " 6   GEARBOX    3406 non-null   object \n",
      " 7   DRIVE      3406 non-null   object \n",
      " 8   COLOR      3406 non-null   object \n",
      "dtypes: float64(2), int64(1), object(6)\n",
      "memory usage: 239.6+ KB\n"
     ]
    }
   ],
   "source": [
    "# copying the data frame to an updated data frame and dropiing unnecessary data row with null value in any column\n",
    "\n",
    "\n",
    "df1=df\n",
    "df1=df1.drop('MILEAGE', axis=1)\n",
    "df1=df1.drop('KM', axis=1)\n",
    "df1=df1.drop('PRICE', axis=1)\n",
    "\n",
    "df1.dropna(inplace=True)\n",
    "\n",
    "# Instead of directly updateing the current dataframe we first copy and use the copy so original is saved for future reference\n",
    "dfNew=df1.copy();\n",
    "\n",
    "\n",
    "# df1.info()\n",
    "# Display or use the filtered DataFrame as needed\n",
    "df2 = df.loc[:, [\"MAKEYEAR\", \"KM_INT\",\"PRICE_NEW\",\"BRANDNAME\",\"FUEL\",\"BODY\",\"GEARBOX\",\"DRIVE\",\"COLOR\"]]\n",
    "\n",
    "df2.info()"
   ]
  },
  {
   "cell_type": "code",
   "execution_count": 90,
   "metadata": {},
   "outputs": [
    {
     "name": "stdout",
     "output_type": "stream",
     "text": [
      "2045\n"
     ]
    }
   ],
   "source": [
    "# coding all brandname with data less than 50 to Other or REMOVING ALL OTHER BRANDS\n",
    "\n",
    "\n",
    "valueCount=df1.value_counts('BRANDNAME')\n",
    "# print(valueCount)\n",
    "brands_to_keep = valueCount[valueCount > 50].index.tolist()\n",
    "#THIS CODE HELPS TO CODE BRAND WITH VALUE LESS THAN 50 TO OTHER BRAND\n",
    "# dfNew['BRANDNAME'] = dfNew['BRANDNAME'].apply(lambda x: x if x in brands_to_keep else 'Other Brand')\n",
    "#//THIS CODE REMOVES ALL DATA WITH BRAND COUNT  LESS THAN 50\n",
    "dfNew= dfNew[dfNew['BRANDNAME'].isin(brands_to_keep)]\n",
    "print(len(dfNew))\n"
   ]
  },
  {
   "cell_type": "code",
   "execution_count": 91,
   "metadata": {},
   "outputs": [
    {
     "name": "stdout",
     "output_type": "stream",
     "text": [
      "AGE\n",
      "7     224\n",
      "6     184\n",
      "5     179\n",
      "9     158\n",
      "8     147\n",
      "13    134\n",
      "2     119\n",
      "4     117\n",
      "14    112\n",
      "10    102\n",
      "3      85\n",
      "15     73\n",
      "11     66\n",
      "12     65\n",
      "16     63\n",
      "1      44\n",
      "17     29\n",
      "18     29\n",
      "19     22\n",
      "20     14\n",
      "21     13\n",
      "23     13\n",
      "22      8\n",
      "27      6\n",
      "0       6\n",
      "24      5\n",
      "31      4\n",
      "26      3\n",
      "32      3\n",
      "25      2\n",
      "42      2\n",
      "33      2\n",
      "30      2\n",
      "28      2\n",
      "29      1\n",
      "36      1\n",
      "41      1\n",
      "44      1\n",
      "49      1\n",
      "53      1\n",
      "55      1\n",
      "57      1\n",
      "Name: count, dtype: int64\n"
     ]
    }
   ],
   "source": [
    "# Using MAke Year and Post date we convert the data to age of vehicle so we can use it as a numeric variable\n",
    "# WE CALCULATE AGE OF CAR BY SUBTRACTIING MAKE YEAR FROM POST YEAR. SINCE THERE ARE POST DATE IN EITHER DATE FORMAT OR AS STRING SO WE USE FOLLOWING CODE TO EXTRACT YEAR FROM BOTH TYPE OF DATE\n",
    "dfNew['POSTYEAR'] = dfNew['POSTDATE'].str[:4]\n",
    "empty_indices = dfNew[dfNew['POSTYEAR'].isnull()].index.tolist()\n",
    "dfNew.loc[empty_indices, 'POSTYEAR'] = pd.to_datetime(dfNew.loc[empty_indices, 'POSTDATE']).dt.year\n",
    "\n",
    "\n",
    "# since regression is not possible to include in makeyear so we calculate age of vehicle to make it a variable and not a categorical varaible\n",
    "\n",
    "dfNew['AGE'] = (dfNew['POSTYEAR'].astype(float)  - dfNew['MAKEYEAR'].astype(float)).astype(int) ;\n",
    "print(dfNew.value_counts('AGE'))\n"
   ]
  },
  {
   "cell_type": "code",
   "execution_count": 92,
   "metadata": {},
   "outputs": [
    {
     "name": "stdout",
     "output_type": "stream",
     "text": [
      "BODY\n",
      "Hatchback    849\n",
      "SUV          763\n",
      "Sedan        223\n",
      "Pickup       143\n",
      "Van           67\n",
      "Name: count, dtype: int64\n"
     ]
    }
   ],
   "source": [
    "#Coding all Body type to specific set of data i.e. Compact SUV, Suv and Jeep SUV to SUV and Small Hatchback, Medium hatchback to hatchback \n",
    "# We \n",
    "valueCount=dfNew.value_counts('BODY')\n",
    "# print(valueCount)\n",
    "dfNew['BODY'] = dfNew['BODY'].replace({r'.*SUV.*': 'SUV', r'.*Hatchback.*': 'Hatchback'}, regex=True, inplace=False)\n",
    "#Removing  row of data with count of body type  less than 50\n",
    "dfNew = dfNew[dfNew['BODY'].map(dfNew['BODY'].value_counts()) >= 50]\n",
    "print(dfNew.value_counts('BODY'))\n",
    "\n"
   ]
  },
  {
   "cell_type": "code",
   "execution_count": 93,
   "metadata": {},
   "outputs": [
    {
     "name": "stdout",
     "output_type": "stream",
     "text": [
      "ENGINERANGE\n",
      "1001-1500(cc)     1102\n",
      "0-1000(cc)         359\n",
      "1501-2000(cc)      309\n",
      "2001-2500(cc)      133\n",
      "2501-2900(cc)       75\n",
      "2901-above(cc)      67\n",
      "Name: count, dtype: int64\n"
     ]
    }
   ],
   "source": [
    "# Converting Individual Engine data to range so we can treat it to a categorical varaibles\n",
    "\n",
    "valueCount=dfNew.value_counts('ENGINE(CC)')\n",
    "dfNew.value_counts('ENGINE(CC)').to_csv('Only Engine Individually.csv')\n",
    "bins = [0, 1000, 1500, 2000, 2500, 2900, float('inf')]\n",
    "labels = ['0-1000(cc)', '1001-1500(cc)', '1501-2000(cc)', '2001-2500(cc)', '2501-2900(cc)', '2901-above(cc)']\n",
    "dfNew['ENGINERANGE'] = pd.cut(dfNew['ENGINE(CC)'], bins=bins, labels=labels, right=True)\n",
    "\n",
    "print(dfNew.value_counts('ENGINERANGE'))\n"
   ]
  },
  {
   "cell_type": "code",
   "execution_count": 94,
   "metadata": {},
   "outputs": [
    {
     "name": "stdout",
     "output_type": "stream",
     "text": [
      "COLOR\n",
      "Silver    642\n",
      "Gray      392\n",
      "White     320\n",
      "Red       177\n",
      "Blue      155\n",
      "Other     142\n",
      "white     139\n",
      "Black      75\n",
      "Brown      75\n",
      "Maroon     67\n",
      "Green      39\n",
      "Golden     38\n",
      "Beige      35\n",
      "blue       26\n",
      "Yellow     16\n",
      "black      16\n",
      "Orange     15\n",
      "WHITE      10\n",
      "BLUE        4\n",
      "Army        4\n",
      "beige       1\n",
      "WHite       1\n",
      "BLACK       1\n",
      "red         1\n",
      "Name: count, dtype: int64\n"
     ]
    }
   ],
   "source": [
    "# coding all Color with data less than 100 to Other and leaving rest as it is to check impact of color\n",
    "\n",
    "valueCount=df1.value_counts('COLOR')\n",
    "# print(valueCount)\n",
    "colorsToKeep = valueCount[valueCount > 50].index.tolist()\n",
    "dfNew['COLOR'] = dfNew['COLOR'].replace('Other', 'Other Colors')\n",
    "dfNew['COLOR'] = dfNew['COLOR'].replace('white', 'White')\n",
    "dfNew['COLOR'] = dfNew['COLOR'].apply(lambda x: x if x in colorsToKeep else 'Other Colors')\n",
    "\n",
    "print(valueCount)\n",
    "\n",
    "\n",
    "\n",
    "\n",
    "\n"
   ]
  },
  {
   "cell_type": "code",
   "execution_count": 95,
   "metadata": {},
   "outputs": [],
   "source": [
    "dfNew = dfNew.loc[:, [\"PRICE_NEW\",\"BRANDNAME\", \"KM_INT\",\"FUEL\",\"BODY\",\"GEARBOX\",\"DRIVE\",\"COLOR\",\"AGE\",\"ENGINERANGE\"]]\n",
    "dfNew.to_csv('Raw Data Final.csv')"
   ]
  },
  {
   "cell_type": "code",
   "execution_count": 96,
   "metadata": {},
   "outputs": [],
   "source": [
    "# Now make two copies of dataframe and use them to make regerssion for normal data regression and log of data to improve data quality\n",
    "\n",
    "normalDf=dfNew.copy();\n",
    "#to use log of data\n",
    "logDf=dfNew.copy();"
   ]
  },
  {
   "cell_type": "code",
   "execution_count": 99,
   "metadata": {},
   "outputs": [],
   "source": [
    "#Creating dummy variables for brand , color and body type,\n",
    "# Also creating dummy variables for binary data like Fuel, Drive, Gearbox\n",
    "\n",
    "from sklearn.preprocessing import LabelEncoder\n",
    "label_encoder = LabelEncoder()\n",
    "normalDf['FUEL'] = label_encoder.fit_transform(normalDf['FUEL'])\n",
    "normalDf['DRIVE'] = label_encoder.fit_transform(normalDf['DRIVE'])\n",
    "normalDf['GEARBOX'] = label_encoder.fit_transform(normalDf['GEARBOX'])\n",
    "normalDf=normalDf.join(pd.get_dummies(normalDf.BRANDNAME)).drop(['BRANDNAME'], axis=1);\n",
    "if 'COLOR' in normalDf.columns:\n",
    "    normalDf=normalDf.join(pd.get_dummies(normalDf.COLOR)).drop(['COLOR'], axis=1)  ;\n",
    "normalDf=normalDf.join(pd.get_dummies(normalDf.BODY)).drop(['BODY'], axis=1);\n",
    "normalDf=normalDf.join(pd.get_dummies(normalDf.ENGINERANGE)).drop(['ENGINERANGE'], axis=1);\n",
    "normalDf = normalDf.astype(int)\n",
    "\n"
   ]
  },
  {
   "cell_type": "code",
   "execution_count": 100,
   "metadata": {},
   "outputs": [],
   "source": [
    "#With this all data has been added as dummies or integers and the Data set is ready to check correlation and finally run regression\n",
    "# normalDf.info()"
   ]
  },
  {
   "cell_type": "code",
   "execution_count": 101,
   "metadata": {},
   "outputs": [],
   "source": [
    "\n"
   ]
  },
  {
   "cell_type": "code",
   "execution_count": 102,
   "metadata": {},
   "outputs": [],
   "source": []
  },
  {
   "cell_type": "code",
   "execution_count": 108,
   "metadata": {},
   "outputs": [
    {
     "name": "stdout",
     "output_type": "stream",
     "text": [
      "                            OLS Regression Results                            \n",
      "==============================================================================\n",
      "Dep. Variable:              PRICE_NEW   R-squared:                       0.485\n",
      "Model:                            OLS   Adj. R-squared:                  0.478\n",
      "Method:                 Least Squares   F-statistic:                     61.27\n",
      "Date:                Sat, 02 Mar 2024   Prob (F-statistic):          1.10e-263\n",
      "Time:                        22:51:16   Log-Likelihood:                -32177.\n",
      "No. Observations:                2045   AIC:                         6.442e+04\n",
      "Df Residuals:                    2013   BIC:                         6.460e+04\n",
      "Df Model:                          31                                         \n",
      "Covariance Type:            nonrobust                                         \n",
      "==================================================================================\n",
      "                     coef    std err          t      P>|t|      [0.025      0.975]\n",
      "----------------------------------------------------------------------------------\n",
      "const           3.249e+06   1.06e+05     30.564      0.000    3.04e+06    3.46e+06\n",
      "KM_INT            -6.1377      1.098     -5.588      0.000      -8.292      -3.983\n",
      "FUEL           -6.145e+05   1.28e+05     -4.786      0.000   -8.66e+05   -3.63e+05\n",
      "GEARBOX        -2.869e+05    9.5e+04     -3.020      0.003   -4.73e+05   -1.01e+05\n",
      "DRIVE           4.744e+05   1.17e+05      4.037      0.000    2.44e+05    7.05e+05\n",
      "AGE            -1.497e+05   7511.980    -19.922      0.000   -1.64e+05   -1.35e+05\n",
      "Ford           -1.133e+05   1.31e+05     -0.863      0.388   -3.71e+05    1.44e+05\n",
      "Hyundai         4.703e+05      9e+04      5.226      0.000    2.94e+05    6.47e+05\n",
      "Kia             9.987e+05    1.5e+05      6.642      0.000    7.04e+05    1.29e+06\n",
      "Mahindra       -1.072e+06   1.77e+05     -6.044      0.000   -1.42e+06   -7.24e+05\n",
      "Maruti Suzuki   3.332e+05   9.67e+04      3.447      0.001    1.44e+05    5.23e+05\n",
      "Nissan          4.236e+05   1.74e+05      2.433      0.015    8.21e+04    7.65e+05\n",
      "Renault        -4.191e+05   2.12e+05     -1.976      0.048   -8.35e+05   -3239.470\n",
      "Tata           -9.528e+05   1.36e+05     -6.996      0.000   -1.22e+06   -6.86e+05\n",
      "Toyota          2.698e+06    1.5e+05     17.966      0.000     2.4e+06    2.99e+06\n",
      "Volkswagen      8.829e+05    1.8e+05      4.897      0.000    5.29e+05    1.24e+06\n",
      "Black            1.17e+05   2.22e+05      0.528      0.597   -3.18e+05    5.52e+05\n",
      "Blue            4.109e+05   1.41e+05      2.915      0.004    1.34e+05    6.87e+05\n",
      "Brown           2.341e+05   2.04e+05      1.148      0.251   -1.66e+05    6.34e+05\n",
      "Gray            3.875e+05      1e+05      3.864      0.000    1.91e+05    5.84e+05\n",
      "Maroon          7.791e+05   2.13e+05      3.659      0.000    3.62e+05     1.2e+06\n",
      "Other Colors    2.319e+05   1.01e+05      2.300      0.022    3.42e+04     4.3e+05\n",
      "Red             2.409e+05   1.32e+05      1.830      0.067   -1.72e+04    4.99e+05\n",
      "Silver          4.265e+05   8.32e+04      5.124      0.000    2.63e+05     5.9e+05\n",
      "White           4.209e+05   9.33e+04      4.513      0.000    2.38e+05    6.04e+05\n",
      "Hatchback       1.023e+06   9.36e+04     10.929      0.000    8.39e+05    1.21e+06\n",
      "Pickup         -4.026e+05   1.56e+05     -2.582      0.010   -7.08e+05   -9.69e+04\n",
      "SUV             1.545e+06   7.92e+04     19.501      0.000    1.39e+06     1.7e+06\n",
      "Sedan           7.428e+05   1.24e+05      5.997      0.000       5e+05    9.86e+05\n",
      "Van             3.415e+05    1.8e+05      1.895      0.058   -1.19e+04    6.95e+05\n",
      "0-1000(cc)     -8.066e+05   1.27e+05     -6.363      0.000   -1.06e+06   -5.58e+05\n",
      "1001-1500(cc)  -6.487e+05   1.02e+05     -6.365      0.000   -8.49e+05   -4.49e+05\n",
      "1501-2000(cc)  -1.282e+05   1.22e+05     -1.049      0.294   -3.68e+05    1.11e+05\n",
      "2001-2500(cc)   4.693e+05   1.49e+05      3.159      0.002    1.78e+05    7.61e+05\n",
      "2501-2900(cc)   1.631e+06   2.03e+05      8.049      0.000    1.23e+06    2.03e+06\n",
      "2901-above(cc)  2.732e+06   1.98e+05     13.813      0.000    2.34e+06    3.12e+06\n",
      "==============================================================================\n",
      "Omnibus:                     2644.872   Durbin-Watson:                   1.358\n",
      "Prob(Omnibus):                  0.000   Jarque-Bera (JB):           792802.098\n",
      "Skew:                           6.792   Prob(JB):                         0.00\n",
      "Kurtosis:                      98.497   Cond. No.                     1.86e+18\n",
      "==============================================================================\n",
      "\n",
      "Notes:\n",
      "[1] Standard Errors assume that the covariance matrix of the errors is correctly specified.\n",
      "[2] The smallest eigenvalue is 2.87e-24. This might indicate that there are\n",
      "strong multicollinearity problems or that the design matrix is singular.\n",
      "Y = 3248973.31 + -6.14 * X1 + -614453.53 * X2 + -286924.50 * X3 + 474361.47 * X4 + -149652.48 * X5 + -113275.95 * X6 + 470345.33 * X7 + 998706.68 * X8 + -1072186.45 * X9 + 333155.43 * X10 + 423604.09 * X11 + -419079.28 * X12 + -952804.48 * X13 + 2697657.84 * X14 + 882850.10 * X15 + 117036.83 * X16 + 410898.39 * X17 + 234059.59 * X18 + 387502.84 * X19 + 779149.48 * X20 + 231941.10 * X21 + 240937.32 * X22 + 426533.49 * X23 + 420914.26 * X24 + 1022767.61 * X25 + -402609.65 * X26 + 1544560.83 * X27 + 742800.56 * X28 + 341453.96 * X29 + -806627.79 * X30 + -648734.25 * X31 + -128151.15 * X32 + 469315.24 * X33 + 1631471.21 * X34 + 2731700.05 * X35\n"
     ]
    }
   ],
   "source": [
    "# checking model summary for pvalue \n",
    "# This is done to check the variables to be used as a predictor\n",
    "import statsmodels.api as sm\n",
    "from sklearn.model_selection import train_test_split\n",
    "from sklearn.linear_model import LinearRegression\n",
    "import pandas as pd\n",
    "\n",
    "\n",
    "dfNewCopy = normalDf.copy()\n",
    "y = dfNewCopy['PRICE_NEW']\n",
    "\n",
    "dfNewCopy.head()\n",
    "# dfNewCopy = normalDf.drop(columns=normalDf.columns[0])\n",
    "\n",
    "X=dfNewCopy.drop(['PRICE_NEW'],axis=1)\n",
    "X = sm.add_constant(X)\n",
    "\n",
    "\n",
    "# # print(X.info())\n",
    "model = sm.OLS(y.astype(float), X.astype(float)).fit()\n",
    "# print(model.fit())\n",
    "\n",
    "# print(len(X))\n",
    "# print(len(y))\n",
    "\n",
    "\n",
    "# for column in dfNewCopy.columns:\n",
    "#     print(f\"{column}: {dfNewCopy[column].dtype}\")\n",
    "\n",
    "# print(dfNewCopy.dtypes)\n",
    "# # Display the summary\n",
    "print(model.summary())\n",
    "\n",
    "# # Extracting p-values from the summary\n",
    "# p_values = summary.tables[1]['P>|t|']\n",
    "# print(\"P-values:\")\n",
    "# print(p_values)\n"
   ]
  },
  {
   "cell_type": "code",
   "execution_count": 109,
   "metadata": {},
   "outputs": [
    {
     "name": "stdout",
     "output_type": "stream",
     "text": [
      "Y = 3248973.31 + -6.14 * const + -614453.53 * KM_INT + -286924.50 * FUEL + 474361.47 * GEARBOX + -149652.48 * DRIVE + -113275.95 * AGE + 470345.33 * Ford + 998706.68 * Hyundai + -1072186.45 * Kia + 333155.43 * Mahindra + 423604.09 * Maruti Suzuki + -419079.28 * Nissan + -952804.48 * Renault + 2697657.84 * Tata + 882850.10 * Toyota + 117036.83 * Volkswagen + 410898.39 * Black + 234059.59 * Blue + 387502.84 * Brown + 779149.48 * Gray + 231941.10 * Maroon + 240937.32 * Other Colors + 426533.49 * Red + 420914.26 * Silver + 1022767.61 * White + -402609.65 * Hatchback + 1544560.83 * Pickup + 742800.56 * SUV + 341453.96 * Sedan + -806627.79 * Van + -648734.25 * 0-1000(cc) + -128151.15 * 1001-1500(cc) + 469315.24 * 1501-2000(cc) + 1631471.21 * 2001-2500(cc) + 2731700.05 * 2501-2900(cc)\n"
     ]
    }
   ],
   "source": [
    "column_names = X.columns\n",
    "\n",
    "# Extract the coefficients from the model\n",
    "coefficients = model.params\n",
    "\n",
    "# Create a string representation of the regression equation\n",
    "equation = 'Y = {:.2f}'.format(coefficients['const'])\n",
    "\n",
    "for i, coefficient in enumerate(coefficients[1:], start=1):\n",
    "    equation += ' + {:.2f} * {}'.format(coefficient, column_names[i-1])\n",
    "\n",
    "# Display the equation\n",
    "print(equation)"
   ]
  },
  {
   "cell_type": "code",
   "execution_count": null,
   "metadata": {},
   "outputs": [
    {
     "name": "stdout",
     "output_type": "stream",
     "text": [
      "R2 score is :  0.4780650324983663\n"
     ]
    },
    {
     "ename": "NameError",
     "evalue": "name 'n' is not defined",
     "output_type": "error",
     "traceback": [
      "\u001b[0;31m---------------------------------------------------------------------------\u001b[0m",
      "\u001b[0;31mNameError\u001b[0m                                 Traceback (most recent call last)",
      "Cell \u001b[0;32mIn[55], line 34\u001b[0m\n\u001b[1;32m     32\u001b[0m \u001b[38;5;28mprint\u001b[39m(\u001b[38;5;124m\"\u001b[39m\u001b[38;5;124mR2 score is : \u001b[39m\u001b[38;5;124m\"\u001b[39m,r2)\n\u001b[1;32m     33\u001b[0m \u001b[38;5;66;03m# Calculate adjusted R^2\u001b[39;00m\n\u001b[0;32m---> 34\u001b[0m adjusted_r2 \u001b[38;5;241m=\u001b[39m \u001b[38;5;241m1\u001b[39m \u001b[38;5;241m-\u001b[39m ((\u001b[38;5;241m1\u001b[39m \u001b[38;5;241m-\u001b[39m r2) \u001b[38;5;241m*\u001b[39m (\u001b[43mn\u001b[49m \u001b[38;5;241m-\u001b[39m \u001b[38;5;241m1\u001b[39m) \u001b[38;5;241m/\u001b[39m (n \u001b[38;5;241m-\u001b[39m k \u001b[38;5;241m-\u001b[39m \u001b[38;5;241m1\u001b[39m))\n\u001b[1;32m     35\u001b[0m \u001b[38;5;28mprint\u001b[39m(\u001b[38;5;124m'\u001b[39m\u001b[38;5;124mAdjusted r2 is : \u001b[39m\u001b[38;5;124m'\u001b[39m,adjusted_r2)\n\u001b[1;32m     36\u001b[0m \u001b[38;5;28mprint\u001b[39m(\u001b[38;5;124m'\u001b[39m\u001b[38;5;124mMean Absolute Error:\u001b[39m\u001b[38;5;124m'\u001b[39m, metrics\u001b[38;5;241m.\u001b[39mmean_absolute_error(y_test, y_pred))\n",
      "\u001b[0;31mNameError\u001b[0m: name 'n' is not defined"
     ]
    }
   ],
   "source": [
    "#Running Linear regression \n",
    "\n",
    "from sklearn import metrics\n",
    "from sklearn.linear_model import LinearRegression\n",
    "from sklearn.model_selection import train_test_split\n",
    "from sklearn.metrics import mean_squared_error, r2_score\n",
    "import seaborn as sns\n",
    "normalDf.head();\n",
    "dfNewCopy = normalDf.iloc[1:, :].copy()\n",
    "# dfNewCopy = normalDf.drop(columns=normalDf.columns[0])\n",
    "\n",
    "y=dfNewCopy['PRICE_NEW'];\n",
    "X=dfNewCopy.drop(['PRICE_NEW'],axis=1);\n",
    "\n",
    "\n",
    "\n",
    "X = X.iloc[1:, :]\n",
    "y = y.iloc[1:]\n",
    "# Now splitting training  Data and Test data (We use 80% of Data as training data and 20% data is Test data)\n",
    "\n",
    "X_train, X_test, y_train, y_test=train_test_split(X, y, test_size=0.2)\n",
    "\n",
    "# print(len(y_test))\n",
    "\n",
    "model=LinearRegression();\n",
    "model.fit(X_train,y_train)\n",
    "r2=model.score(X_test,y_test)\n",
    "y_pred = model.predict(X_test)\n",
    "\n",
    "#Now Predicting for test data\n",
    "\n",
    "print(\"R2 score is : \",r2)\n",
    "# Calculate adjusted R^2\n",
    "# adjusted_r2 = 1 - ((1 - r2) * (n - 1) / (n - k - 1))\n",
    "# print('Adjusted r2 is : ',adjusted_r2)\n",
    "print('Mean Absolute Error:', metrics.mean_absolute_error(y_test, y_pred))\n",
    "print('Root Mean Squared Error:', metrics.root_mean_squared_error(y_test, y_pred))\n",
    "\n",
    "#computing r2\n",
    "# y = y.values.reshape(-1, 1)\n",
    "# y_pred = y_pred.values.reshape(-1, 1)\n",
    "n = X_test.shape[0]\n",
    "k = X_test.shape[1]\n",
    "\n",
    "\n",
    "\n",
    "print(\"***********Running a Random Forest Regression***********\")\n",
    "\n",
    "#running a random forest Regressor to boost performance\n",
    "from sklearn.ensemble import RandomForestRegressor\n",
    "forest= RandomForestRegressor()\n",
    "forest.fit(X_train, y_train)\n",
    "newr2=forest.score(X_test,y_test)\n",
    "adjusted_forest_r2 = 1 - ((1 - newr2) * (n - 1) / (n - k - 1))\n",
    "print(\"The new R2 score after Random Forest Regression is : \",newr2)\n",
    "print(\"The new Adjusted R2 score after Random Forest Regression is : \",adjusted_forest_r2)"
   ]
  },
  {
   "cell_type": "code",
   "execution_count": null,
   "metadata": {},
   "outputs": [
    {
     "name": "stdout",
     "output_type": "stream",
     "text": [
      "********************Working in log model*********\n"
     ]
    }
   ],
   "source": [
    "# Working with log of data after this\n",
    "#************************Start******************\n",
    "print('********************Working in log model*********')"
   ]
  },
  {
   "cell_type": "code",
   "execution_count": null,
   "metadata": {},
   "outputs": [
    {
     "data": {
      "image/png": "[encoded data removed]",
      "text/plain": [
       "<Figure size 1500x800 with 4 Axes>"
      ]
     },
     "metadata": {},
     "output_type": "display_data"
    }
   ],
   "source": [
    "# Since the above histogram does not look to be right or left squed and are not a bell shaped curve so we take logaarithm value\n",
    "logDf['PRICE_NEW'] =np.log(logDf['PRICE_NEW']+1);\n",
    "logDf['KM_INT'] =np.log(logDf['KM_INT']+1);\n",
    "logDf['AGE'] =np.log(logDf['AGE']+1);\n",
    "logDf.hist(figsize=(15,8));\n"
   ]
  },
  {
   "cell_type": "code",
   "execution_count": null,
   "metadata": {},
   "outputs": [],
   "source": [
    "#Creating dummy variables for brand , color and body type,\n",
    "# Also creating dummy variables for binary data like Fuel, Drive, Gearbox\n",
    "\n",
    "from sklearn.preprocessing import LabelEncoder\n",
    "label_encoder = LabelEncoder()\n",
    "logDf['FUEL'] = label_encoder.fit_transform(logDf['FUEL'])\n",
    "logDf['DRIVE'] = label_encoder.fit_transform(logDf['DRIVE'])\n",
    "logDf['GEARBOX'] = label_encoder.fit_transform(logDf['GEARBOX'])\n",
    "logDf=logDf.join(pd.get_dummies(logDf.BRANDNAME)).drop(['BRANDNAME'], axis=1);\n",
    "if 'COLOR' in logDf.columns:\n",
    "    logDf=logDf.join(pd.get_dummies(logDf.COLOR)).drop(['COLOR'], axis=1)\n",
    "logDf=logDf.join(pd.get_dummies(logDf.BODY)).drop(['BODY'], axis=1);\n",
    "logDf=logDf.join(pd.get_dummies(logDf.ENGINERANGE)).drop(['ENGINERANGE'], axis=1);"
   ]
  },
  {
   "cell_type": "code",
   "execution_count": null,
   "metadata": {},
   "outputs": [],
   "source": [
    "# #Plot and see the correlation of various variables with Log of data\n",
    "# plt.figure(figsize=(15,8))\n",
    "# logNumericalData=logDf[[\"PRICE_NEW\",\"ENGINE(CC)\",\"KM_INT\",\"MAKEYEAR\"]]\n",
    "# print(logNumericalData.corr());\n",
    "# sns.heatmap(logNumericalData.corr(),annot=True,cmap=\"YlGnBu\");"
   ]
  },
  {
   "cell_type": "code",
   "execution_count": null,
   "metadata": {},
   "outputs": [
    {
     "name": "stdout",
     "output_type": "stream",
     "text": [
      "R2 score is :  0.7431733626553294\n",
      "Adjusted r2 is :  0.7190743484272772\n",
      "Mean Absolute Error: 0.24398158884401355\n",
      "Root Mean Squared Error: 0.33200662903798633\n",
      "***********Running a Random Forest Regression***********\n",
      "The new R2 score after Random Forest Regression is :  0.7918287685757104\n",
      "The new Adjusted R2 score after Random Forest Regression is :  0.7722952750104285\n"
     ]
    }
   ],
   "source": [
    "#Running Linear regression \n",
    "\n",
    "from sklearn import metrics\n",
    "from sklearn.linear_model import LinearRegression\n",
    "from sklearn.model_selection import train_test_split\n",
    "from sklearn.metrics import mean_squared_error, r2_score\n",
    "import seaborn as sns\n",
    "\n",
    "logDfCopy = logDf.copy()\n",
    "\n",
    "y=logDfCopy['PRICE_NEW'];\n",
    "\n",
    "# Now splitting training  Data and Test data (We use 80% of Data as training data and 20% data is Test data)\n",
    "X=logDfCopy.drop(['PRICE_NEW'],axis=1);\n",
    "\n",
    "X = X.iloc[1:, :]\n",
    "y = y.iloc[1:]\n",
    "X_train, X_test, y_train, y_test=train_test_split(X, y, test_size=0.2)\n",
    "\n",
    "# print(len(y_test))\n",
    "\n",
    "model=LinearRegression();\n",
    "model.fit(X_train,y_train)\n",
    "r2=model.score(X_test,y_test)\n",
    "y_pred = model.predict(X_test)\n",
    "\n",
    "#Now Predicting for test data\n",
    "\n",
    "print(\"R2 score is : \",r2)\n",
    "# Calculate adjusted R^2\n",
    "adjusted_r2 = 1 - ((1 - r2) * (n - 1) / (n - k - 1))\n",
    "print('Adjusted r2 is : ',adjusted_r2)\n",
    "print('Mean Absolute Error:', metrics.mean_absolute_error(y_test, y_pred))\n",
    "print('Root Mean Squared Error:', metrics.root_mean_squared_error(y_test, y_pred))\n",
    "\n",
    "#computing r2\n",
    "# y = y.values.reshape(-1, 1)\n",
    "# y_pred = y_pred.values.reshape(-1, 1)\n",
    "n = X_test.shape[0]\n",
    "k = X_test.shape[1]\n",
    "\n",
    "\n",
    "\n",
    "print(\"***********Running a Random Forest Regression***********\")\n",
    "\n",
    "#running a random forest Regressor to boost performance\n",
    "from sklearn.ensemble import RandomForestRegressor\n",
    "forest= RandomForestRegressor()\n",
    "forest.fit(X_train, y_train)\n",
    "newr2=forest.score(X_test,y_test)\n",
    "adjusted_forest_r2 = 1 - ((1 - newr2) * (n - 1) / (n - k - 1))\n",
    "print(\"The new R2 score after Random Forest Regression is : \",newr2)\n",
    "print(\"The new Adjusted R2 score after Random Forest Regression is : \",adjusted_forest_r2)"
   ]
  },
  {
   "cell_type": "markdown",
   "metadata": {},
   "source": [
    "https://www.youtube.com/watch?v=Wqmtf9SA_kk&ab_channel=NeuralNine\n",
    "https://www.youtube.com/watch?v=RQ3YuekiBqQ&ab_channel=BryanNelson\n",
    "https://www.youtube.com/watch?v=xu0prYu5e-c&ab_channel=AliNasserEddine\n",
    "https://www.youtube.com/watch?v=Jfmb4agrvLU&ab_channel=DataTrek\n",
    "https://www.youtube.com/watch?v=tPykSMHpgHw&ab_channel=dataminingincae"
   ]
  }
 ],
 "metadata": {
  "kernelspec": {
   "display_name": "carsScrape-7_zlvukO",
   "language": "python",
   "name": "python3"
  },
  "language_info": {
   "codemirror_mode": {
    "name": "ipython",
    "version": 3
   },
   "file_extension": ".py",
   "mimetype": "text/x-python",
   "name": "python",
   "nbconvert_exporter": "python",
   "pygments_lexer": "ipython3",
   "version": "3.9.13"
  }
 },
 "nbformat": 4,
 "nbformat_minor": 2
}
