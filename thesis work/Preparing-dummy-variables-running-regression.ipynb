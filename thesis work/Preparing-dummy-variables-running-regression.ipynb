{
 "cells": [
  {
   "cell_type": "code",
   "execution_count": 613,
   "metadata": {},
   "outputs": [],
   "source": [
    "import pandas as pd\n",
    "import numpy as np\n",
    "import matplotlib.pyplot as plt\n",
    "import seaborn as sns\n"
   ]
  },
  {
   "cell_type": "markdown",
   "metadata": {},
   "source": []
  },
  {
   "cell_type": "code",
   "execution_count": 614,
   "metadata": {},
   "outputs": [
    {
     "name": "stdout",
     "output_type": "stream",
     "text": [
      "<class 'pandas.core.frame.DataFrame'>\n",
      "RangeIndex: 3406 entries, 0 to 3405\n",
      "Data columns (total 15 columns):\n",
      " #   Column      Non-Null Count  Dtype  \n",
      "---  ------      --------------  -----  \n",
      " 0   1           3406 non-null   int64  \n",
      " 1   PRICE       3406 non-null   object \n",
      " 2   BRANDNAME   3406 non-null   object \n",
      " 3   MAKEYEAR    3386 non-null   float64\n",
      " 4   FUEL        3406 non-null   object \n",
      " 5   KM          2811 non-null   object \n",
      " 6   BODY        3406 non-null   object \n",
      " 7   GEARBOX     3406 non-null   object \n",
      " 8   DRIVE       3406 non-null   object \n",
      " 9   COLOR       3406 non-null   object \n",
      " 10  POSTDATE    3405 non-null   object \n",
      " 11  MILEAGE     1676 non-null   object \n",
      " 12  ENGINE(CC)  2802 non-null   float64\n",
      " 13  KM_INT      2394 non-null   float64\n",
      " 14  PRICE_NEW   3406 non-null   int64  \n",
      "dtypes: float64(3), int64(2), object(10)\n",
      "memory usage: 399.3+ KB\n"
     ]
    }
   ],
   "source": [
    "# REading file and getting to know the data\n",
    "working_file_path='M2-1 Working on thesis paper.xlsx'\n",
    "df = pd.read_excel(working_file_path,sheet_name='All Data')\n",
    "df.info()"
   ]
  },
  {
   "cell_type": "code",
   "execution_count": 615,
   "metadata": {},
   "outputs": [
    {
     "name": "stdout",
     "output_type": "stream",
     "text": [
      "<class 'pandas.core.frame.DataFrame'>\n",
      "RangeIndex: 3406 entries, 0 to 3405\n",
      "Data columns (total 9 columns):\n",
      " #   Column     Non-Null Count  Dtype  \n",
      "---  ------     --------------  -----  \n",
      " 0   MAKEYEAR   3386 non-null   float64\n",
      " 1   KM_INT     2394 non-null   float64\n",
      " 2   PRICE_NEW  3406 non-null   int64  \n",
      " 3   BRANDNAME  3406 non-null   object \n",
      " 4   FUEL       3406 non-null   object \n",
      " 5   BODY       3406 non-null   object \n",
      " 6   GEARBOX    3406 non-null   object \n",
      " 7   DRIVE      3406 non-null   object \n",
      " 8   COLOR      3406 non-null   object \n",
      "dtypes: float64(2), int64(1), object(6)\n",
      "memory usage: 239.6+ KB\n"
     ]
    }
   ],
   "source": [
    "# copying the data frame to an updated data frame and dropiing unnecessary data row with null value in any column\n",
    "\n",
    "\n",
    "df1=df\n",
    "df1=df1.drop('MILEAGE', axis=1)\n",
    "df1=df1.drop('KM', axis=1)\n",
    "df1=df1.drop('PRICE', axis=1)\n",
    "\n",
    "df1.dropna(inplace=True)\n",
    "\n",
    "pd.set_option('display.max_rows', None)\n",
    "# Instead of directly updateing the current dataframe we first copy and use the copy so original is saved for future reference\n",
    "dfNew=df1.copy();\n",
    "\n",
    "\n",
    "# df1.info()\n",
    "# Display or use the filtered DataFrame as needed\n",
    "df2 = df.loc[:, [\"MAKEYEAR\", \"KM_INT\",\"PRICE_NEW\",\"BRANDNAME\",\"FUEL\",\"BODY\",\"GEARBOX\",\"DRIVE\",\"COLOR\"]]\n",
    "\n",
    "df2.info()"
   ]
  },
  {
   "cell_type": "code",
   "execution_count": 616,
   "metadata": {},
   "outputs": [
    {
     "name": "stdout",
     "output_type": "stream",
     "text": [
      "2045\n"
     ]
    }
   ],
   "source": [
    "# coding all brandname with data less than 50 to Other or REMOVING ALL OTHER BRANDS\n",
    "\n",
    "\n",
    "valueCount=df1.value_counts('BRANDNAME')\n",
    "# print(valueCount)\n",
    "brands_to_keep = valueCount[valueCount > 50].index.tolist()\n",
    "#THIS CODE HELPS TO CODE BRAND WITH VALUE LESS THAN 50 TO OTHER BRAND\n",
    "# dfNew['BRANDNAME'] = dfNew['BRANDNAME'].apply(lambda x: x if x in brands_to_keep else 'Other Brand')\n",
    "#//THIS CODE REMOVES ALL DATA WITH BRAND COUNT  LESS THAN 50\n",
    "dfNew= dfNew[dfNew['BRANDNAME'].isin(brands_to_keep)]\n",
    "print(len(dfNew))\n"
   ]
  },
  {
   "cell_type": "code",
   "execution_count": 617,
   "metadata": {},
   "outputs": [
    {
     "name": "stdout",
     "output_type": "stream",
     "text": [
      "AGE\n",
      "7     224\n",
      "6     184\n",
      "5     179\n",
      "9     158\n",
      "8     147\n",
      "13    134\n",
      "2     119\n",
      "4     117\n",
      "14    112\n",
      "10    102\n",
      "3      85\n",
      "15     73\n",
      "11     66\n",
      "12     65\n",
      "16     63\n",
      "1      44\n",
      "17     29\n",
      "18     29\n",
      "19     22\n",
      "20     14\n",
      "21     13\n",
      "23     13\n",
      "22      8\n",
      "27      6\n",
      "0       6\n",
      "24      5\n",
      "31      4\n",
      "26      3\n",
      "32      3\n",
      "25      2\n",
      "42      2\n",
      "33      2\n",
      "30      2\n",
      "28      2\n",
      "29      1\n",
      "36      1\n",
      "41      1\n",
      "44      1\n",
      "49      1\n",
      "53      1\n",
      "55      1\n",
      "57      1\n",
      "Name: count, dtype: int64\n"
     ]
    }
   ],
   "source": [
    "# Using MAke Year and Post date we convert the data to age of vehicle so we can use it as a numeric variable\n",
    "# WE CALCULATE AGE OF CAR BY SUBTRACTIING MAKE YEAR FROM POST YEAR. SINCE THERE ARE POST DATE IN EITHER DATE FORMAT OR AS STRING SO WE USE FOLLOWING CODE TO EXTRACT YEAR FROM BOTH TYPE OF DATE\n",
    "dfNew['POSTYEAR'] = dfNew['POSTDATE'].str[:4]\n",
    "empty_indices = dfNew[dfNew['POSTYEAR'].isnull()].index.tolist()\n",
    "dfNew.loc[empty_indices, 'POSTYEAR'] = pd.to_datetime(dfNew.loc[empty_indices, 'POSTDATE']).dt.year\n",
    "\n",
    "\n",
    "# since regression is not possible to include in makeyear so we calculate age of vehicle to make it a variable and not a categorical varaible\n",
    "\n",
    "dfNew['AGE'] = (dfNew['POSTYEAR'].astype(float)  - dfNew['MAKEYEAR'].astype(float)).astype(int) ;\n",
    "print(dfNew.value_counts('AGE'))\n"
   ]
  },
  {
   "cell_type": "code",
   "execution_count": 618,
   "metadata": {},
   "outputs": [
    {
     "name": "stdout",
     "output_type": "stream",
     "text": [
      "BODY\n",
      "Hatchback    849\n",
      "SUV          763\n",
      "Sedan        223\n",
      "Pickup       143\n",
      "Van           67\n",
      "Name: count, dtype: int64\n"
     ]
    }
   ],
   "source": [
    "#Coding all Body type to specific set of data i.e. Compact SUV, Suv and Jeep SUV to SUV and Small Hatchback, Medium hatchback to hatchback \n",
    "# We \n",
    "valueCount=dfNew.value_counts('BODY')\n",
    "# print(valueCount)\n",
    "dfNew['BODY'] = dfNew['BODY'].replace({r'.*SUV.*': 'SUV', r'.*Hatchback.*': 'Hatchback'}, regex=True, inplace=False)\n",
    "#Removing  row of data with count of body type  less than 50\n",
    "dfNew = dfNew[dfNew['BODY'].map(dfNew['BODY'].value_counts()) >= 50]\n",
    "print(dfNew.value_counts('BODY'))\n",
    "\n"
   ]
  },
  {
   "cell_type": "code",
   "execution_count": 619,
   "metadata": {},
   "outputs": [
    {
     "name": "stdout",
     "output_type": "stream",
     "text": [
      "ENGINERANGE\n",
      "1001-1500(cc)     1102\n",
      "0-1000(cc)         359\n",
      "1501-2000(cc)      309\n",
      "2001-2500(cc)      133\n",
      "2501-2900(cc)       75\n",
      "2901-above(cc)      67\n",
      "Name: count, dtype: int64\n"
     ]
    }
   ],
   "source": [
    "# Converting Individual Engine data to range so we can treat it to a categorical varaibles\n",
    "\n",
    "valueCount=dfNew.value_counts('ENGINE(CC)')\n",
    "dfNew.value_counts('ENGINE(CC)').to_csv('Only Engine Individually.csv')\n",
    "bins = [0, 1000, 1500, 2000, 2500, 2900, float('inf')]\n",
    "labels = ['0-1000(cc)', '1001-1500(cc)', '1501-2000(cc)', '2001-2500(cc)', '2501-2900(cc)', '2901-above(cc)']\n",
    "dfNew['ENGINERANGE'] = pd.cut(dfNew['ENGINE(CC)'], bins=bins, labels=labels, right=True)\n",
    "\n",
    "print(dfNew.value_counts('ENGINERANGE'))\n"
   ]
  },
  {
   "cell_type": "code",
   "execution_count": 620,
   "metadata": {},
   "outputs": [
    {
     "name": "stdout",
     "output_type": "stream",
     "text": [
      "COLOR\n",
      "Silver    642\n",
      "Gray      392\n",
      "White     320\n",
      "Red       177\n",
      "Blue      155\n",
      "Other     142\n",
      "white     139\n",
      "Black      75\n",
      "Brown      75\n",
      "Maroon     67\n",
      "Green      39\n",
      "Golden     38\n",
      "Beige      35\n",
      "blue       26\n",
      "Yellow     16\n",
      "black      16\n",
      "Orange     15\n",
      "WHITE      10\n",
      "BLUE        4\n",
      "Army        4\n",
      "beige       1\n",
      "WHite       1\n",
      "BLACK       1\n",
      "red         1\n",
      "Name: count, dtype: int64\n"
     ]
    }
   ],
   "source": [
    "# coding all Color with data less than 100 to Other and leaving rest as it is to check impact of color\n",
    "\n",
    "valueCount=df1.value_counts('COLOR')\n",
    "# print(valueCount)\n",
    "colorsToKeep = valueCount[valueCount > 50].index.tolist()\n",
    "dfNew['COLOR'] = dfNew['COLOR'].replace('Other', 'Other Colors')\n",
    "dfNew['COLOR'] = dfNew['COLOR'].replace('white', 'White')\n",
    "dfNew['COLOR'] = dfNew['COLOR'].apply(lambda x: x if x in colorsToKeep else 'Other Colors')\n",
    "\n",
    "print(valueCount)\n",
    "\n",
    "\n",
    "\n",
    "\n",
    "\n"
   ]
  },
  {
   "cell_type": "code",
   "execution_count": 621,
   "metadata": {},
   "outputs": [],
   "source": [
    "dfNew = dfNew.loc[:, [\"PRICE_NEW\",\"BRANDNAME\", \"KM_INT\",\"FUEL\",\"BODY\",\"GEARBOX\",\"DRIVE\",\"COLOR\",\"AGE\",\"ENGINERANGE\"]]\n",
    "dfNew.to_csv('Raw Data Final.csv')"
   ]
  },
  {
   "cell_type": "code",
   "execution_count": 622,
   "metadata": {},
   "outputs": [],
   "source": [
    "# Now make two copies of dataframe and use them to make regerssion for normal data regression and log of data to improve data quality\n",
    "\n",
    "normalDf=dfNew.copy();\n",
    "#to use log of data\n",
    "logDf=dfNew.copy();"
   ]
  },
  {
   "cell_type": "code",
   "execution_count": 623,
   "metadata": {},
   "outputs": [
    {
     "data": {
      "text/plain": [
       "array([[<Axes: title={'center': 'PRICE_NEW'}>,\n",
       "        <Axes: title={'center': 'KM_INT'}>],\n",
       "       [<Axes: title={'center': 'AGE'}>, <Axes: >]], dtype=object)"
      ]
     },
     "execution_count": 623,
     "metadata": {},
     "output_type": "execute_result"
    },
    {
     "data": {
      "image/png": "[encoded data removed]",
      "text/plain": [
       "<Figure size 1500x800 with 4 Axes>"
      ]
     },
     "metadata": {},
     "output_type": "display_data"
    }
   ],
   "source": [
    "#we again join the above splitted values of independent and dependent variables to see various statistics\n",
    "#Plot the histogram to see the frequency of data\n",
    "normalDf.hist(figsize=(15,8))"
   ]
  },
  {
   "cell_type": "code",
   "execution_count": 624,
   "metadata": {},
   "outputs": [
    {
     "name": "stdout",
     "output_type": "stream",
     "text": [
      "           PRICE_NEW    KM_INT       AGE\n",
      "PRICE_NEW   1.000000 -0.131095 -0.295722\n",
      "KM_INT     -0.131095  1.000000  0.394016\n",
      "AGE        -0.295722  0.394016  1.000000\n"
     ]
    },
    {
     "data": {
      "image/png": "[encoded data removed]",
      "text/plain": [
       "<Figure size 1500x800 with 2 Axes>"
      ]
     },
     "metadata": {},
     "output_type": "display_data"
    }
   ],
   "source": [
    "#Plot and see the correlation of various variables with plain train_Data\n",
    "plt.figure(figsize=(15,8))\n",
    "numericalData=normalDf[[\"PRICE_NEW\",\"KM_INT\",\"AGE\"]]\n",
    "print(numericalData.corr());\n",
    "sns.heatmap(numericalData.corr(),annot=True,cmap=\"YlGnBu\");"
   ]
  },
  {
   "cell_type": "code",
   "execution_count": 625,
   "metadata": {},
   "outputs": [],
   "source": [
    "#Creating dummy variables for brand , color and body type,\n",
    "# Also creating dummy variables for binary data like Fuel, Drive, Gearbox\n",
    "\n",
    "from sklearn.preprocessing import LabelEncoder\n",
    "label_encoder = LabelEncoder()\n",
    "normalDf['FUEL'] = label_encoder.fit_transform(normalDf['FUEL'])\n",
    "normalDf['DRIVE'] = label_encoder.fit_transform(normalDf['DRIVE'])\n",
    "normalDf['GEARBOX'] = label_encoder.fit_transform(normalDf['GEARBOX'])\n",
    "normalDf=normalDf.join(pd.get_dummies(normalDf.BRANDNAME)).drop(['BRANDNAME'], axis=1);\n",
    "if 'COLOR' in normalDf.columns:\n",
    "    normalDf=normalDf.join(pd.get_dummies(normalDf.COLOR)).drop(['COLOR'], axis=1)  ;\n",
    "normalDf=normalDf.join(pd.get_dummies(normalDf.BODY)).drop(['BODY'], axis=1);\n",
    "normalDf=normalDf.join(pd.get_dummies(normalDf.ENGINERANGE)).drop(['ENGINERANGE'], axis=1);\n"
   ]
  },
  {
   "cell_type": "code",
   "execution_count": 626,
   "metadata": {},
   "outputs": [
    {
     "name": "stdout",
     "output_type": "stream",
     "text": [
      "<class 'pandas.core.frame.DataFrame'>\n",
      "Index: 2045 entries, 0 to 3203\n",
      "Data columns (total 36 columns):\n",
      " #   Column          Non-Null Count  Dtype  \n",
      "---  ------          --------------  -----  \n",
      " 0   PRICE_NEW       2045 non-null   int64  \n",
      " 1   KM_INT          2045 non-null   float64\n",
      " 2   FUEL            2045 non-null   int64  \n",
      " 3   GEARBOX         2045 non-null   int64  \n",
      " 4   DRIVE           2045 non-null   int64  \n",
      " 5   AGE             2045 non-null   int64  \n",
      " 6   Ford            2045 non-null   bool   \n",
      " 7   Hyundai         2045 non-null   bool   \n",
      " 8   Kia             2045 non-null   bool   \n",
      " 9   Mahindra        2045 non-null   bool   \n",
      " 10  Maruti Suzuki   2045 non-null   bool   \n",
      " 11  Nissan          2045 non-null   bool   \n",
      " 12  Renault         2045 non-null   bool   \n",
      " 13  Tata            2045 non-null   bool   \n",
      " 14  Toyota          2045 non-null   bool   \n",
      " 15  Volkswagen      2045 non-null   bool   \n",
      " 16  Black           2045 non-null   bool   \n",
      " 17  Blue            2045 non-null   bool   \n",
      " 18  Brown           2045 non-null   bool   \n",
      " 19  Gray            2045 non-null   bool   \n",
      " 20  Maroon          2045 non-null   bool   \n",
      " 21  Other Colors    2045 non-null   bool   \n",
      " 22  Red             2045 non-null   bool   \n",
      " 23  Silver          2045 non-null   bool   \n",
      " 24  White           2045 non-null   bool   \n",
      " 25  Hatchback       2045 non-null   bool   \n",
      " 26  Pickup          2045 non-null   bool   \n",
      " 27  SUV             2045 non-null   bool   \n",
      " 28  Sedan           2045 non-null   bool   \n",
      " 29  Van             2045 non-null   bool   \n",
      " 30  0-1000(cc)      2045 non-null   bool   \n",
      " 31  1001-1500(cc)   2045 non-null   bool   \n",
      " 32  1501-2000(cc)   2045 non-null   bool   \n",
      " 33  2001-2500(cc)   2045 non-null   bool   \n",
      " 34  2501-2900(cc)   2045 non-null   bool   \n",
      " 35  2901-above(cc)  2045 non-null   bool   \n",
      "dtypes: bool(30), float64(1), int64(5)\n",
      "memory usage: 236.3 KB\n"
     ]
    }
   ],
   "source": [
    "#With this all data has been added as dummies or integers and the Data set is ready to check correlation and finally run regression\n",
    "normalDf.info()\n",
    "normalDf.to_csv('Final-with-full-dummies.csv')"
   ]
  },
  {
   "cell_type": "code",
   "execution_count": 627,
   "metadata": {},
   "outputs": [],
   "source": [
    "#Check the correlation and heat map\n",
    "# plt.figure(figsize=(15,20))\n",
    "# print(train_data.corr());\n",
    "# sns.heatmap(normalDf.corr(),annot=True,cmap=\"YlGnBu\");"
   ]
  },
  {
   "cell_type": "code",
   "execution_count": 628,
   "metadata": {},
   "outputs": [],
   "source": [
    "# # Plotting a scatterplot to see the view\n",
    "# plt.figure(figsize=(15,8))\n",
    "# sns.scatterplot(x=\"MAKEYEAR\",y=\"KM_INT\", data=normalDf, hue=\"PRICE_NEW\",palette=\"coolwarm\")"
   ]
  },
  {
   "cell_type": "code",
   "execution_count": 629,
   "metadata": {},
   "outputs": [
    {
     "name": "stdout",
     "output_type": "stream",
     "text": [
      "                            OLS Regression Results                            \n",
      "==============================================================================\n",
      "Dep. Variable:              PRICE_NEW   R-squared:                       0.485\n",
      "Model:                            OLS   Adj. R-squared:                  0.478\n",
      "Method:                 Least Squares   F-statistic:                     61.27\n",
      "Date:                Sat, 03 Feb 2024   Prob (F-statistic):          1.10e-263\n",
      "Time:                        21:31:29   Log-Likelihood:                -32177.\n",
      "No. Observations:                2045   AIC:                         6.442e+04\n",
      "Df Residuals:                    2013   BIC:                         6.460e+04\n",
      "Df Model:                          31                                         \n",
      "Covariance Type:            nonrobust                                         \n",
      "==================================================================================\n",
      "                     coef    std err          t      P>|t|      [0.025      0.975]\n",
      "----------------------------------------------------------------------------------\n",
      "const           3.249e+06   1.06e+05     30.564      0.000    3.04e+06    3.46e+06\n",
      "KM_INT            -6.1377      1.098     -5.588      0.000      -8.292      -3.983\n",
      "FUEL           -6.145e+05   1.28e+05     -4.786      0.000   -8.66e+05   -3.63e+05\n",
      "GEARBOX        -2.869e+05    9.5e+04     -3.020      0.003   -4.73e+05   -1.01e+05\n",
      "DRIVE           4.744e+05   1.17e+05      4.037      0.000    2.44e+05    7.05e+05\n",
      "AGE            -1.497e+05   7511.980    -19.922      0.000   -1.64e+05   -1.35e+05\n",
      "Ford           -1.133e+05   1.31e+05     -0.863      0.388   -3.71e+05    1.44e+05\n",
      "Hyundai         4.703e+05      9e+04      5.226      0.000    2.94e+05    6.47e+05\n",
      "Kia             9.987e+05    1.5e+05      6.642      0.000    7.04e+05    1.29e+06\n",
      "Mahindra       -1.072e+06   1.77e+05     -6.044      0.000   -1.42e+06   -7.24e+05\n",
      "Maruti Suzuki   3.332e+05   9.67e+04      3.447      0.001    1.44e+05    5.23e+05\n",
      "Nissan          4.236e+05   1.74e+05      2.433      0.015    8.21e+04    7.65e+05\n",
      "Renault        -4.191e+05   2.12e+05     -1.976      0.048   -8.35e+05   -3239.470\n",
      "Tata           -9.528e+05   1.36e+05     -6.996      0.000   -1.22e+06   -6.86e+05\n",
      "Toyota          2.698e+06    1.5e+05     17.966      0.000     2.4e+06    2.99e+06\n",
      "Volkswagen      8.829e+05    1.8e+05      4.897      0.000    5.29e+05    1.24e+06\n",
      "Black            1.17e+05   2.22e+05      0.528      0.597   -3.18e+05    5.52e+05\n",
      "Blue            4.109e+05   1.41e+05      2.915      0.004    1.34e+05    6.87e+05\n",
      "Brown           2.341e+05   2.04e+05      1.148      0.251   -1.66e+05    6.34e+05\n",
      "Gray            3.875e+05      1e+05      3.864      0.000    1.91e+05    5.84e+05\n",
      "Maroon          7.791e+05   2.13e+05      3.659      0.000    3.62e+05     1.2e+06\n",
      "Other Colors    2.319e+05   1.01e+05      2.300      0.022    3.42e+04     4.3e+05\n",
      "Red             2.409e+05   1.32e+05      1.830      0.067   -1.72e+04    4.99e+05\n",
      "Silver          4.265e+05   8.32e+04      5.124      0.000    2.63e+05     5.9e+05\n",
      "White           4.209e+05   9.33e+04      4.513      0.000    2.38e+05    6.04e+05\n",
      "Hatchback       1.023e+06   9.36e+04     10.929      0.000    8.39e+05    1.21e+06\n",
      "Pickup         -4.026e+05   1.56e+05     -2.582      0.010   -7.08e+05   -9.69e+04\n",
      "SUV             1.545e+06   7.92e+04     19.501      0.000    1.39e+06     1.7e+06\n",
      "Sedan           7.428e+05   1.24e+05      5.997      0.000       5e+05    9.86e+05\n",
      "Van             3.415e+05    1.8e+05      1.895      0.058   -1.19e+04    6.95e+05\n",
      "0-1000(cc)     -8.066e+05   1.27e+05     -6.363      0.000   -1.06e+06   -5.58e+05\n",
      "1001-1500(cc)  -6.487e+05   1.02e+05     -6.365      0.000   -8.49e+05   -4.49e+05\n",
      "1501-2000(cc)  -1.282e+05   1.22e+05     -1.049      0.294   -3.68e+05    1.11e+05\n",
      "2001-2500(cc)   4.693e+05   1.49e+05      3.159      0.002    1.78e+05    7.61e+05\n",
      "2501-2900(cc)   1.631e+06   2.03e+05      8.049      0.000    1.23e+06    2.03e+06\n",
      "2901-above(cc)  2.732e+06   1.98e+05     13.813      0.000    2.34e+06    3.12e+06\n",
      "==============================================================================\n",
      "Omnibus:                     2644.872   Durbin-Watson:                   1.358\n",
      "Prob(Omnibus):                  0.000   Jarque-Bera (JB):           792802.098\n",
      "Skew:                           6.792   Prob(JB):                         0.00\n",
      "Kurtosis:                      98.497   Cond. No.                     1.86e+18\n",
      "==============================================================================\n",
      "\n",
      "Notes:\n",
      "[1] Standard Errors assume that the covariance matrix of the errors is correctly specified.\n",
      "[2] The smallest eigenvalue is 2.87e-24. This might indicate that there are\n",
      "strong multicollinearity problems or that the design matrix is singular.\n"
     ]
    }
   ],
   "source": [
    "# checking model summary for pvalue \n",
    "# This is done to check the variables to be used as a predictor\n",
    "import statsmodels.api as sm\n",
    "from sklearn.model_selection import train_test_split\n",
    "from sklearn.linear_model import LinearRegression\n",
    "import pandas as pd\n",
    "\n",
    "\n",
    "dfNewCopy = normalDf.copy()\n",
    "y = dfNewCopy['PRICE_NEW']\n",
    "\n",
    "dfNewCopy.head()\n",
    "# dfNewCopy = normalDf.drop(columns=normalDf.columns[0])\n",
    "\n",
    "X=dfNewCopy.drop(['PRICE_NEW'],axis=1)\n",
    "X = sm.add_constant(X)\n",
    "\n",
    "\n",
    "# # print(X.info())\n",
    "model = sm.OLS(y.astype(float), X.astype(float)).fit()\n",
    "# print(model.summary())\n",
    "\n",
    "# print(len(X))\n",
    "# print(len(y))\n",
    "\n",
    "model_summary = model.summary()\n",
    "# for column in dfNewCopy.columns:\n",
    "#     print(f\"{column}: {dfNewCopy[column].dtype}\")\n",
    "\n",
    "# print(dfNewCopy.dtypes)\n",
    "# # Display the summary\n",
    "print(model_summary)\n",
    "\n",
    "# # Extracting p-values from the summary\n",
    "# p_values = summary.tables[1]['P>|t|']\n",
    "# print(\"P-values:\")\n",
    "# print(p_values)\n"
   ]
  },
  {
   "cell_type": "code",
   "execution_count": 630,
   "metadata": {},
   "outputs": [
    {
     "name": "stdout",
     "output_type": "stream",
     "text": [
      "R2 score is :  0.5226480903699122\n",
      "Adjusted r2 is :  0.4778563562223169\n",
      "Mean Absolute Error: 877733.2286574949\n",
      "Root Mean Squared Error: 1528737.4804927944\n",
      "***********Running a Random Forest Regression***********\n",
      "The new R2 score after Random Forest Regression is :  0.7979172181492667\n",
      "The new Adjusted R2 score after Random Forest Regression is :  0.7789550268227905\n"
     ]
    }
   ],
   "source": [
    "#Running Linear regression \n",
    "\n",
    "from sklearn import metrics\n",
    "from sklearn.linear_model import LinearRegression\n",
    "from sklearn.model_selection import train_test_split\n",
    "from sklearn.metrics import mean_squared_error, r2_score\n",
    "import seaborn as sns\n",
    "normalDf.head();\n",
    "dfNewCopy = normalDf.iloc[1:, :].copy()\n",
    "# dfNewCopy = normalDf.drop(columns=normalDf.columns[0])\n",
    "\n",
    "y=dfNewCopy['PRICE_NEW'];\n",
    "X=dfNewCopy.drop(['PRICE_NEW'],axis=1);\n",
    "\n",
    "\n",
    "\n",
    "X = X.iloc[1:, :]\n",
    "y = y.iloc[1:]\n",
    "# Now splitting training  Data and Test data (We use 80% of Data as training data and 20% data is Test data)\n",
    "\n",
    "X_train, X_test, y_train, y_test=train_test_split(X, y, test_size=0.2)\n",
    "\n",
    "# print(len(y_test))\n",
    "\n",
    "model=LinearRegression();\n",
    "model.fit(X_train,y_train)\n",
    "r2=model.score(X_test,y_test)\n",
    "y_pred = model.predict(X_test)\n",
    "\n",
    "#Now Predicting for test data\n",
    "\n",
    "print(\"R2 score is : \",r2)\n",
    "# Calculate adjusted R^2\n",
    "adjusted_r2 = 1 - ((1 - r2) * (n - 1) / (n - k - 1))\n",
    "print('Adjusted r2 is : ',adjusted_r2)\n",
    "print('Mean Absolute Error:', metrics.mean_absolute_error(y_test, y_pred))\n",
    "print('Root Mean Squared Error:', metrics.root_mean_squared_error(y_test, y_pred))\n",
    "\n",
    "#computing r2\n",
    "# y = y.values.reshape(-1, 1)\n",
    "# y_pred = y_pred.values.reshape(-1, 1)\n",
    "n = X_test.shape[0]\n",
    "k = X_test.shape[1]\n",
    "\n",
    "\n",
    "\n",
    "print(\"***********Running a Random Forest Regression***********\")\n",
    "\n",
    "#running a random forest Regressor to boost performance\n",
    "from sklearn.ensemble import RandomForestRegressor\n",
    "forest= RandomForestRegressor()\n",
    "forest.fit(X_train, y_train)\n",
    "newr2=forest.score(X_test,y_test)\n",
    "adjusted_forest_r2 = 1 - ((1 - newr2) * (n - 1) / (n - k - 1))\n",
    "print(\"The new R2 score after Random Forest Regression is : \",newr2)\n",
    "print(\"The new Adjusted R2 score after Random Forest Regression is : \",adjusted_forest_r2)"
   ]
  },
  {
   "cell_type": "code",
   "execution_count": 631,
   "metadata": {},
   "outputs": [
    {
     "name": "stdout",
     "output_type": "stream",
     "text": [
      "********************Working in log model*********\n"
     ]
    }
   ],
   "source": [
    "# Working with log of data after this\n",
    "#************************Start******************\n",
    "print('********************Working in log model*********')"
   ]
  },
  {
   "cell_type": "code",
   "execution_count": 632,
   "metadata": {},
   "outputs": [
    {
     "data": {
      "image/png": "[encoded data removed]",
      "text/plain": [
       "<Figure size 1500x800 with 4 Axes>"
      ]
     },
     "metadata": {},
     "output_type": "display_data"
    }
   ],
   "source": [
    "# Since the above histogram does not look to be right or left squed and are not a bell shaped curve so we take logaarithm value\n",
    "logDf['PRICE_NEW'] =np.log(logDf['PRICE_NEW']+1);\n",
    "logDf['KM_INT'] =np.log(logDf['KM_INT']+1);\n",
    "logDf['AGE'] =np.log(logDf['AGE']+1);\n",
    "logDf.hist(figsize=(15,8));\n"
   ]
  },
  {
   "cell_type": "code",
   "execution_count": 633,
   "metadata": {},
   "outputs": [],
   "source": [
    "#Creating dummy variables for brand , color and body type,\n",
    "# Also creating dummy variables for binary data like Fuel, Drive, Gearbox\n",
    "\n",
    "from sklearn.preprocessing import LabelEncoder\n",
    "label_encoder = LabelEncoder()\n",
    "logDf['FUEL'] = label_encoder.fit_transform(logDf['FUEL'])\n",
    "logDf['DRIVE'] = label_encoder.fit_transform(logDf['DRIVE'])\n",
    "logDf['GEARBOX'] = label_encoder.fit_transform(logDf['GEARBOX'])\n",
    "logDf=logDf.join(pd.get_dummies(logDf.BRANDNAME)).drop(['BRANDNAME'], axis=1);\n",
    "if 'COLOR' in logDf.columns:\n",
    "    logDf=logDf.join(pd.get_dummies(logDf.COLOR)).drop(['COLOR'], axis=1)\n",
    "logDf=logDf.join(pd.get_dummies(logDf.BODY)).drop(['BODY'], axis=1);\n",
    "logDf=logDf.join(pd.get_dummies(logDf.ENGINERANGE)).drop(['ENGINERANGE'], axis=1);"
   ]
  },
  {
   "cell_type": "code",
   "execution_count": 634,
   "metadata": {},
   "outputs": [],
   "source": [
    "# #Plot and see the correlation of various variables with Log of data\n",
    "# plt.figure(figsize=(15,8))\n",
    "# logNumericalData=logDf[[\"PRICE_NEW\",\"ENGINE(CC)\",\"KM_INT\",\"MAKEYEAR\"]]\n",
    "# print(logNumericalData.corr());\n",
    "# sns.heatmap(logNumericalData.corr(),annot=True,cmap=\"YlGnBu\");"
   ]
  },
  {
   "cell_type": "code",
   "execution_count": 635,
   "metadata": {},
   "outputs": [
    {
     "name": "stdout",
     "output_type": "stream",
     "text": [
      "R2 score is :  0.7431733626553294\n",
      "Adjusted r2 is :  0.7190743484272772\n",
      "Mean Absolute Error: 0.24398158884401355\n",
      "Root Mean Squared Error: 0.33200662903798633\n",
      "***********Running a Random Forest Regression***********\n",
      "The new R2 score after Random Forest Regression is :  0.7918287685757104\n",
      "The new Adjusted R2 score after Random Forest Regression is :  0.7722952750104285\n"
     ]
    }
   ],
   "source": [
    "#Running Linear regression \n",
    "\n",
    "from sklearn import metrics\n",
    "from sklearn.linear_model import LinearRegression\n",
    "from sklearn.model_selection import train_test_split\n",
    "from sklearn.metrics import mean_squared_error, r2_score\n",
    "import seaborn as sns\n",
    "\n",
    "logDfCopy = logDf.copy()\n",
    "\n",
    "y=logDfCopy['PRICE_NEW'];\n",
    "\n",
    "# Now splitting training  Data and Test data (We use 80% of Data as training data and 20% data is Test data)\n",
    "X=logDfCopy.drop(['PRICE_NEW'],axis=1);\n",
    "\n",
    "X = X.iloc[1:, :]\n",
    "y = y.iloc[1:]\n",
    "X_train, X_test, y_train, y_test=train_test_split(X, y, test_size=0.2)\n",
    "\n",
    "# print(len(y_test))\n",
    "\n",
    "model=LinearRegression();\n",
    "model.fit(X_train,y_train)\n",
    "r2=model.score(X_test,y_test)\n",
    "y_pred = model.predict(X_test)\n",
    "\n",
    "#Now Predicting for test data\n",
    "\n",
    "print(\"R2 score is : \",r2)\n",
    "# Calculate adjusted R^2\n",
    "adjusted_r2 = 1 - ((1 - r2) * (n - 1) / (n - k - 1))\n",
    "print('Adjusted r2 is : ',adjusted_r2)\n",
    "print('Mean Absolute Error:', metrics.mean_absolute_error(y_test, y_pred))\n",
    "print('Root Mean Squared Error:', metrics.root_mean_squared_error(y_test, y_pred))\n",
    "\n",
    "#computing r2\n",
    "# y = y.values.reshape(-1, 1)\n",
    "# y_pred = y_pred.values.reshape(-1, 1)\n",
    "n = X_test.shape[0]\n",
    "k = X_test.shape[1]\n",
    "\n",
    "\n",
    "\n",
    "print(\"***********Running a Random Forest Regression***********\")\n",
    "\n",
    "#running a random forest Regressor to boost performance\n",
    "from sklearn.ensemble import RandomForestRegressor\n",
    "forest= RandomForestRegressor()\n",
    "forest.fit(X_train, y_train)\n",
    "newr2=forest.score(X_test,y_test)\n",
    "adjusted_forest_r2 = 1 - ((1 - newr2) * (n - 1) / (n - k - 1))\n",
    "print(\"The new R2 score after Random Forest Regression is : \",newr2)\n",
    "print(\"The new Adjusted R2 score after Random Forest Regression is : \",adjusted_forest_r2)"
   ]
  },
  {
   "cell_type": "markdown",
   "metadata": {},
   "source": [
    "https://www.youtube.com/watch?v=Wqmtf9SA_kk&ab_channel=NeuralNine\n",
    "https://www.youtube.com/watch?v=RQ3YuekiBqQ&ab_channel=BryanNelson\n",
    "https://www.youtube.com/watch?v=xu0prYu5e-c&ab_channel=AliNasserEddine\n",
    "https://www.youtube.com/watch?v=Jfmb4agrvLU&ab_channel=DataTrek\n",
    "https://www.youtube.com/watch?v=tPykSMHpgHw&ab_channel=dataminingincae"
   ]
  }
 ],
 "metadata": {
  "kernelspec": {
   "display_name": "carsScrape-7_zlvukO",
   "language": "python",
   "name": "python3"
  },
  "language_info": {
   "codemirror_mode": {
    "name": "ipython",
    "version": 3
   },
   "file_extension": ".py",
   "mimetype": "text/x-python",
   "name": "python",
   "nbconvert_exporter": "python",
   "pygments_lexer": "ipython3",
   "version": "3.9.13"
  }
 },
 "nbformat": 4,
 "nbformat_minor": 2
}
