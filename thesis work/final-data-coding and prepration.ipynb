{
 "cells": [
  {
   "cell_type": "code",
   "execution_count": 2,
   "metadata": {},
   "outputs": [
    {
     "name": "stdout",
     "output_type": "stream",
     "text": [
      "Done!\n"
     ]
    }
   ],
   "source": [
    "# Converting String DAta type for price to integer by removing NPR and comma as well as deleting row with NEgotiable price\n",
    "import pandas as pd\n",
    "\n",
    "# Read the Excel file with multiple sheets\n",
    "excel_file_path = 'Milestone 1- Working on thesis paper.xlsx'\n",
    "dfs = pd.read_excel(excel_file_path, sheet_name=None)\n",
    "output_file_path='M2-1 Working on thesis paper.xlsx';\n",
    "# Create a writer to write to a new Excel file\n",
    "with pd.ExcelWriter(output_file_path, engine='xlsxwriter') as writer:\n",
    "\n",
    "    # Copy all sheets (excluding 'All Data') to the new Excel file\n",
    "    for sheet_name, df in dfs.items():\n",
    "        if sheet_name != 'All Data':\n",
    "            df.to_excel(writer, sheet_name=sheet_name, index=False)\n",
    "\n",
    "    # Copy and modify the 'All Data' sheet\n",
    "    all_data_sheet = dfs.get('All Data', pd.DataFrame())\n",
    "    if not all_data_sheet.empty:\n",
    "        all_data_sheet_copy = all_data_sheet.copy()\n",
    "\n",
    "        # Add a condition to remove rows with 'PRICE' containing 'NEGOTIABLE' (case-insensitive)\n",
    "        # all_data_sheet_copy = all_data_sheet_copy[~all_data_sheet_copy['PRICE'].astype(str).str.contains('NEGOTIABLE', case=False)]\n",
    "        # all_data_sheet_copy = all_data_sheet_copy[~all_data_sheet_copy['BODY'].astype(str).str.contains('Truck', case=False)]\n",
    "        # all_data_sheet_copy = all_data_sheet_copy[~all_data_sheet_copy['BODY'].astype(str).str.contains('Bus', case=False)]\n",
    "\n",
    "        # Add a new column 'PRICE_NEW' and modify the 'PRICE' column\n",
    "        if 'PRICE' in all_data_sheet_copy.columns:\n",
    "            all_data_sheet_copy['PRICE_NEW'] = all_data_sheet_copy['PRICE'].apply(\n",
    "                lambda x: str(x).replace('NPR', '').replace(',', '') if pd.notna(x) else x\n",
    "            )\n",
    "     \n",
    "        if 'KM_INT' in all_data_sheet_copy.columns:\n",
    "            all_data_sheet_copy['KM_INT'] = all_data_sheet_copy['KM_INT'].apply(lambda x: str(x).replace(' ', '') if pd.notna(x) else x)\n",
    "            # all_data_sheet_copy['KM_INT2'] = all_data_sheet_copy['KM_INT2'].apply(lambda x: None if pd.isna(x) or (x == '' or x==' ') else (x))\n",
    "            all_data_sheet_copy['KM_INT'] = all_data_sheet_copy['KM_INT'].apply(lambda x: None if pd.isna(x) or (isinstance(x, str) and x.strip() in ['', 'Null']) or not isinstance(x, (int, str)) else int(x.replace(',', '')))\n",
    "\n",
    "        if 'Model' in all_data_sheet_copy.columns:\n",
    "            all_data_sheet_copy['BRANDNAME'] = all_data_sheet_copy['BRANDNAME'].replace({'Land': 'Land Rover'}, regex=True)\n",
    "       \n",
    "\n",
    "        # Write the modified 'All Data' sheet to the new Excel file\n",
    "        \n",
    "        all_data_sheet_copy.to_excel(writer, sheet_name='All Data', index=False)\n",
    "\n",
    "print(\"Done!\")"
   ]
  },
  {
   "cell_type": "code",
   "execution_count": 3,
   "metadata": {},
   "outputs": [],
   "source": [
    "import pandas as pd\n",
    "\n",
    "working_file_path='M2-1 Working on thesis paper.xlsx'\n",
    "df = pd.read_excel(working_file_path,sheet_name='All Data')\n",
    "\n"
   ]
  },
  {
   "cell_type": "markdown",
   "metadata": {},
   "source": []
  },
  {
   "cell_type": "code",
   "execution_count": 5,
   "metadata": {},
   "outputs": [
    {
     "name": "stdout",
     "output_type": "stream",
     "text": [
      "<class 'pandas.core.frame.DataFrame'>\n",
      "RangeIndex: 3406 entries, 0 to 3405\n",
      "Data columns (total 15 columns):\n",
      " #   Column      Non-Null Count  Dtype  \n",
      "---  ------      --------------  -----  \n",
      " 0   1           3406 non-null   int64  \n",
      " 1   PRICE       3406 non-null   object \n",
      " 2   BRANDNAME   3406 non-null   object \n",
      " 3   MAKEYEAR    3386 non-null   float64\n",
      " 4   FUEL        3406 non-null   object \n",
      " 5   KM          2811 non-null   object \n",
      " 6   BODY        3406 non-null   object \n",
      " 7   GEARBOX     3406 non-null   object \n",
      " 8   DRIVE       3406 non-null   object \n",
      " 9   COLOR       3406 non-null   object \n",
      " 10  POSTDATE    3405 non-null   object \n",
      " 11  MILEAGE     1676 non-null   object \n",
      " 12  ENGINE(CC)  2802 non-null   float64\n",
      " 13  KM_INT      2394 non-null   float64\n",
      " 14  PRICE_NEW   3406 non-null   int64  \n",
      "dtypes: float64(3), int64(2), object(10)\n",
      "memory usage: 399.3+ KB\n"
     ]
    }
   ],
   "source": [
    "\n",
    "\n",
    "# Display or use the filtered DataFrame as needed\n",
    "df.info();\n"
   ]
  },
  {
   "cell_type": "markdown",
   "metadata": {},
   "source": [
    "https://www.youtube.com/watch?v=Wqmtf9SA_kk&ab_channel=NeuralNine\n",
    "https://www.youtube.com/watch?v=xu0prYu5e-c&ab_channel=AliNasserEddine"
   ]
  }
 ],
 "metadata": {
  "kernelspec": {
   "display_name": "carsScrape-7_zlvukO",
   "language": "python",
   "name": "python3"
  },
  "language_info": {
   "codemirror_mode": {
    "name": "ipython",
    "version": 3
   },
   "file_extension": ".py",
   "mimetype": "text/x-python",
   "name": "python",
   "nbconvert_exporter": "python",
   "pygments_lexer": "ipython3",
   "version": "3.9.13"
  }
 },
 "nbformat": 4,
 "nbformat_minor": 2
}
