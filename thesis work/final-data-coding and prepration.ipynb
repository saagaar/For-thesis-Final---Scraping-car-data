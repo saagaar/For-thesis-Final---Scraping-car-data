{
 "cells": [
  {
   "cell_type": "code",
   "execution_count": 1,
   "metadata": {},
   "outputs": [
    {
     "name": "stdout",
     "output_type": "stream",
     "text": [
      "Done!\n"
     ]
    }
   ],
   "source": [
    "# Converting String DAta type for price to integer by removing NPR and comma as well as deleting row with NEgotiable price\n",
    "import pandas as pd\n",
    "\n",
    "# Read the Excel file with multiple sheets\n",
    "excel_file_path = 'Milestone 1- Working on thesis paper.xlsx'\n",
    "dfs = pd.read_excel(excel_file_path, sheet_name=None)\n",
    "output_file_path='M2-1 Working on thesis paper.xlsx';\n",
    "# Create a writer to write to a new Excel file\n",
    "with pd.ExcelWriter(output_file_path, engine='xlsxwriter') as writer:\n",
    "\n",
    "    # Copy all sheets (excluding 'All Data') to the new Excel file\n",
    "    for sheet_name, df in dfs.items():\n",
    "        if sheet_name != 'All Data':\n",
    "            df.to_excel(writer, sheet_name=sheet_name, index=False)\n",
    "\n",
    "    # Copy and modify the 'All Data' sheet\n",
    "    all_data_sheet = dfs.get('All Data', pd.DataFrame())\n",
    "    if not all_data_sheet.empty:\n",
    "        all_data_sheet_copy = all_data_sheet.copy()\n",
    "\n",
    "        # Add a condition to remove rows with 'PRICE' containing 'NEGOTIABLE' (case-insensitive)\n",
    "        # all_data_sheet_copy = all_data_sheet_copy[~all_data_sheet_copy['PRICE'].astype(str).str.contains('NEGOTIABLE', case=False)]\n",
    "        # all_data_sheet_copy = all_data_sheet_copy[~all_data_sheet_copy['BODY'].astype(str).str.contains('Truck', case=False)]\n",
    "        # all_data_sheet_copy = all_data_sheet_copy[~all_data_sheet_copy['BODY'].astype(str).str.contains('Bus', case=False)]\n",
    "\n",
    "        # Add a new column 'PRICE_NEW' and modify the 'PRICE' column\n",
    "        if 'PRICE' in all_data_sheet_copy.columns:\n",
    "            all_data_sheet_copy['PRICE_NEW'] = all_data_sheet_copy['PRICE'].apply(\n",
    "                lambda x: str(x).replace('NPR', '').replace(',', '') if pd.notna(x) else x\n",
    "            )\n",
    "     \n",
    "        if 'KM_INT' in all_data_sheet_copy.columns:\n",
    "            all_data_sheet_copy['KM_INT'] = all_data_sheet_copy['KM_INT'].apply(lambda x: str(x).replace(' ', '') if pd.notna(x) else x)\n",
    "            # all_data_sheet_copy['KM_INT2'] = all_data_sheet_copy['KM_INT2'].apply(lambda x: None if pd.isna(x) or (x == '' or x==' ') else (x))\n",
    "            all_data_sheet_copy['KM_INT'] = all_data_sheet_copy['KM_INT'].apply(lambda x: None if pd.isna(x) or (isinstance(x, str) and x.strip() in ['', 'Null']) or not isinstance(x, (int, str)) else int(x.replace(',', '')))\n",
    "\n",
    "        if 'Model' in all_data_sheet_copy.columns:\n",
    "            all_data_sheet_copy['BRANDNAME'] = all_data_sheet_copy['BRANDNAME'].replace({'Land': 'Land Rover'}, regex=True)\n",
    "       \n",
    "\n",
    "        # Write the modified 'All Data' sheet to the new Excel file\n",
    "        \n",
    "        all_data_sheet_copy.to_excel(writer, sheet_name='All Data', index=False)\n",
    "\n",
    "print(\"Done!\")"
   ]
  },
  {
   "cell_type": "code",
   "execution_count": 75,
   "metadata": {},
   "outputs": [
    {
     "name": "stdout",
     "output_type": "stream",
     "text": [
      "3428\n",
      "<class 'pandas.core.series.Series'>\n",
      "RangeIndex: 3428 entries, 0 to 3427\n",
      "Series name: KM_INT\n",
      "Non-Null Count  Dtype  \n",
      "--------------  -----  \n",
      "2416 non-null   float64\n",
      "dtypes: float64(1)\n",
      "memory usage: 26.9 KB\n"
     ]
    }
   ],
   "source": [
    "import pandas as pd\n",
    "\n",
    "working_file_path='M2-1 Working on thesis paper.xlsx'\n",
    "df = pd.read_excel(working_file_path,sheet_name='All Data')\n",
    "\n"
   ]
  },
  {
   "cell_type": "markdown",
   "metadata": {},
   "source": []
  },
  {
   "cell_type": "code",
   "execution_count": 76,
   "metadata": {},
   "outputs": [
    {
     "name": "stdout",
     "output_type": "stream",
     "text": [
      "<class 'pandas.core.frame.DataFrame'>\n",
      "RangeIndex: 3428 entries, 0 to 3427\n",
      "Data columns (total 15 columns):\n",
      " #   Column      Non-Null Count  Dtype  \n",
      "---  ------      --------------  -----  \n",
      " 0   1           3428 non-null   int64  \n",
      " 1   PRICE       3428 non-null   object \n",
      " 2   BRANDNAME   3428 non-null   object \n",
      " 3   MAKEYEAR    3408 non-null   float64\n",
      " 4   FUEL        3428 non-null   object \n",
      " 5   KM          2833 non-null   object \n",
      " 6   BODY        3428 non-null   object \n",
      " 7   GEARBOX     3428 non-null   object \n",
      " 8   DRIVE       3428 non-null   object \n",
      " 9   COLOR       3428 non-null   object \n",
      " 10  POSTDATE    3427 non-null   object \n",
      " 11  MILEAGE     1690 non-null   object \n",
      " 12  ENGINE(CC)  2587 non-null   object \n",
      " 13  KM_INT      2416 non-null   float64\n",
      " 14  PRICE_NEW   3428 non-null   int64  \n",
      "dtypes: float64(2), int64(2), object(11)\n",
      "memory usage: 401.8+ KB\n"
     ]
    }
   ],
   "source": [
    "\n",
    "\n",
    "# Display or use the filtered DataFrame as needed\n",
    "df.info();\n"
   ]
  },
  {
   "cell_type": "code",
   "execution_count": 141,
   "metadata": {},
   "outputs": [
    {
     "data": {
      "text/plain": [
       "3496"
      ]
     },
     "execution_count": 141,
     "metadata": {},
     "output_type": "execute_result"
    }
   ],
   "source": [
    "#Removing all empty columns except KM_INT(distance travelled)\n",
    "\n",
    "withNullKMDataFrame = newDf.dropna(subset=['MAKEYEAR', 'BODY','DRIVE','FUEL','BRANDNAME','GEARBOX','PRICE_NEW'])\n",
    "len(withNullKMDataFrame)"
   ]
  },
  {
   "cell_type": "code",
   "execution_count": 142,
   "metadata": {},
   "outputs": [
    {
     "data": {
      "text/plain": [
       "2865"
      ]
     },
     "execution_count": 142,
     "metadata": {},
     "output_type": "execute_result"
    }
   ],
   "source": [
    "#Drop specific Rows  with specific columns That  are null or empty\n",
    "\n",
    "withoutNullKMDataFrame = newDf.dropna(subset=['MAKEYEAR', 'BODY','DRIVE','FUEL','BRANDNAME','GEARBOX','KM_INT','PRICE_NEW'])\n",
    "len(withoutNullKMDataFrame)"
   ]
  },
  {
   "cell_type": "code",
   "execution_count": 143,
   "metadata": {},
   "outputs": [
    {
     "data": {
      "text/plain": [
       "COLOR\n",
       "White               544\n",
       "Silver              395\n",
       "Grey                152\n",
       "Other               146\n",
       "silver              140\n",
       "                   ... \n",
       "ALICE BLUE            1\n",
       "Urban Titanium        1\n",
       "bule                  1\n",
       "light Blue            1\n",
       "Moon dust Silver      1\n",
       "Name: count, Length: 425, dtype: int64"
      ]
     },
     "execution_count": 143,
     "metadata": {},
     "output_type": "execute_result"
    }
   ],
   "source": [
    "withoutNullKMDataFrame['COLOR'].value_counts()"
   ]
  },
  {
   "cell_type": "code",
   "execution_count": null,
   "metadata": {},
   "outputs": [],
   "source": [
    "#plot the data in scatter plot\n",
    "import matplotlib.pyplot as plt\n",
    "\n",
    "\n",
    "plt.scatter(df2[\"MAKEYEAR\"], df2[\"KM_INT\"])\n",
    "plt.show()"
   ]
  },
  {
   "cell_type": "code",
   "execution_count": null,
   "metadata": {},
   "outputs": [],
   "source": [
    "#Running Linear regression for Make year and km\n",
    "\n",
    "from sklearn.linear_model import LinearRegression\n",
    "from sklearn.model_selection import train_test_split\n",
    "from sklearn.metrics import mean_squared_error, r2_score\n",
    "import seaborn as sns\n",
    "\n",
    "X = df2['MAKEYEAR']\n",
    "y = df2[\"KM_INT\"]\n",
    "# print(X,y);\n",
    "sns.lmplot(x='MAKEYEAR', y='KM_INT', data=df2, ci=None, line_kws={'color': 'red'})\n",
    "plt.xlabel('Year')\n",
    "plt.ylabel('Distance Travelled')\n",
    "plt.title('Linear Regression: Year vs Distance Travelled')\n",
    "plt.show()"
   ]
  },
  {
   "cell_type": "code",
   "execution_count": null,
   "metadata": {},
   "outputs": [],
   "source": [
    "\n",
    "import pandas as pd\n",
    "from sklearn.model_selection import train_test_split\n",
    "from sklearn.linear_model import LinearRegression\n",
    "from sklearn import metrics\n",
    "import matplotlib.pyplot as plt\n",
    "\n",
    "years_2d = np.array(df2['MAKEYEAR']).reshape(-1, 1)\n",
    "X = years_2d  # Features\n",
    "y = df2['KM_INT']  # Target variable\n",
    "\n",
    "X_train, X_test, y_train, y_test = train_test_split(X, y, test_size=0.2, random_state=42)\n",
    "\n",
    "# Create a linear regression model\n",
    "model = LinearRegression()\n",
    "\n",
    "# By Earlier model using training set\n",
    "# # Train the model\n",
    "# model.fit(X_train, y_train)\n",
    "\n",
    "# # Make predictions on the test set\n",
    "# y_pred = model.predict(X_test)\n",
    "# print('Mean Absolute Error:', metrics.mean_absolute_error(y_test, y_pred))\n",
    "# print('Mean Squared Error:', metrics.mean_squared_error(y_test, y_pred))\n",
    "# print('Root Mean Squared Error:', metrics.mean_squared_error(y_test, y_pred, squared=False))\n",
    "\n",
    "\n",
    "# By Sagar Chapagain using initial set\n",
    "model.fit(X, y)\n",
    "y_pred = model.predict(X)\n",
    "\n",
    "r2=r2_score(y, y_pred);\n",
    "\n",
    "print(\"Number of samples in X:\", y_pred.shape[0])\n",
    "print(\"Number of samples in y:\", y.shape[0])\n",
    "# print('Mean Absolute Error:', metrics.mean_absolute_error(y_test, y_pred))\n",
    "# print('Mean Squared Error:', metrics.mean_squared_error(y_test, y_pred))\n",
    "# print('Root Mean Squared Error:', metrics.mean_squared_error(y_test, y_pred, squared=False))\n",
    "print(\"R2 score is : \",r2)\n",
    "\n",
    "#calculate r squared value\n",
    "# Evaluate the model\n",
    "\n",
    "# Plot the regression line\n",
    "plt.scatter(X_train, y_test, color='black')\n",
    "plt.plot(X_test, y_pred, color='blue', linewidth=3)\n",
    "plt.xlabel('Year')\n",
    "plt.ylabel('Distance Travelled')\n",
    "plt.title('Linear Regression: Year vs Distance Travelled')\n",
    "plt.show()"
   ]
  },
  {
   "cell_type": "code",
   "execution_count": null,
   "metadata": {},
   "outputs": [],
   "source": [
    "df2[\"MAKEYEAR\"].value_counts()\n"
   ]
  },
  {
   "cell_type": "code",
   "execution_count": null,
   "metadata": {},
   "outputs": [],
   "source": [
    "df2[\"KM_INT\"].describe()"
   ]
  },
  {
   "cell_type": "code",
   "execution_count": null,
   "metadata": {},
   "outputs": [],
   "source": [
    "zerokm_filter = (df2[\"KM_INT\"] == 0)\n",
    "\n",
    "df2[zerokm_filter]"
   ]
  },
  {
   "cell_type": "markdown",
   "metadata": {},
   "source": [
    "https://www.youtube.com/watch?v=Wqmtf9SA_kk&ab_channel=NeuralNine\n",
    "https://www.youtube.com/watch?v=xu0prYu5e-c&ab_channel=AliNasserEddine"
   ]
  }
 ],
 "metadata": {
  "kernelspec": {
   "display_name": "carsScrape-7_zlvukO",
   "language": "python",
   "name": "python3"
  },
  "language_info": {
   "codemirror_mode": {
    "name": "ipython",
    "version": 3
   },
   "file_extension": ".py",
   "mimetype": "text/x-python",
   "name": "python",
   "nbconvert_exporter": "python",
   "pygments_lexer": "ipython3",
   "version": "3.9.13"
  }
 },
 "nbformat": 4,
 "nbformat_minor": 2
}
