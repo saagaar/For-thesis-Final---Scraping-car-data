{
 "cells": [
  {
   "cell_type": "code",
   "execution_count": 46,
   "metadata": {},
   "outputs": [],
   "source": [
    "import pandas as pd\n",
    "\n",
    "# df = pd.read_csv('output_data_final.csv');\n",
    "df = pd.read_excel('working on thesis paper.xlsx',sheet_name='All Data')\n",
    "# for removing all the row with null price\n",
    "# dfnew=df.replace(to_replace='(?i)negotiable', value=pd.NA, regex=True, inplace=True)\n",
    "\n",
    "# df_cleaned = df[\"PRICE\"].dropna()\n",
    "# print(len(df_cleaned));\n",
    "#df\n",
    "\n"
   ]
  },
  {
   "cell_type": "code",
   "execution_count": 68,
   "metadata": {},
   "outputs": [],
   "source": [
    "\n",
    "\n",
    "# Process the 'PRICE' column in 'All Data' DataFrame\n",
    "if 'PRICE' in df.columns:\n",
    "    df['PRICE'] = df['PRICE'].apply(lambda x: str(x) if pd.notna(x) else x)\n",
    "    df['PRICE'] = df['PRICE'].replace({'[nN][pP][rR]': '', ',': ''}, regex=True)\n",
    "\n",
    "# Replace 'Final Working on thesis paper-v2.xlsx' with the desired output path and file name\n",
    "output_file_path = 'Final Working on thesis paper-v2.xlsx'\n",
    "\n",
    "# Write the modified 'All Data' DataFrame to a new Excel file\n",
    "df.to_excel(output_file_path, index=False)"
   ]
  },
  {
   "cell_type": "markdown",
   "metadata": {},
   "source": []
  },
  {
   "cell_type": "code",
   "execution_count": 29,
   "metadata": {},
   "outputs": [
    {
     "name": "stdout",
     "output_type": "stream",
     "text": [
      "3879\n"
     ]
    }
   ],
   "source": [
    "# Remove all other Fuels and only keep Disesel and Petrol for analysis\n",
    "newDf = df[df['FUEL'].str.lower().isin(['diesel', 'petrol'])];\n",
    "\n",
    "print(len(newDf));\n"
   ]
  },
  {
   "cell_type": "code",
   "execution_count": null,
   "metadata": {},
   "outputs": [],
   "source": [
    "#Drop all Rows  with any columns having  null value  \n",
    "\n",
    "# newDf.dropna(inplace=True)\n",
    "# print(len(newDf))\n",
    "# it will give only 1400 data sets so we temporarily reject and try another options with higher dataset"
   ]
  },
  {
   "cell_type": "code",
   "execution_count": 38,
   "metadata": {},
   "outputs": [
    {
     "name": "stdout",
     "output_type": "stream",
     "text": [
      "<class 'pandas.core.series.Series'>\n",
      "Index: 3074 entries, 113 to 3971\n",
      "Series name: PRICE\n",
      "Non-Null Count  Dtype  \n",
      "--------------  -----  \n",
      "3074 non-null   float64\n",
      "dtypes: float64(1)\n",
      "memory usage: 48.0 KB\n"
     ]
    }
   ],
   "source": [
    "# Remove all price with negotiable pricing\n",
    "df['PRICE'] = pd.to_numeric(df['PRICE'], errors='coerce')\n",
    "\n",
    "# Filter rows where 'PRICE' is numeric (non-NaN)\n",
    "filtered_df = df.dropna(subset=['PRICE'])\n",
    "\n",
    "# Display or use the filtered DataFrame as needed\n",
    "filtered_df['PRICE'].info()\n"
   ]
  },
  {
   "cell_type": "code",
   "execution_count": 34,
   "metadata": {},
   "outputs": [
    {
     "name": "stdout",
     "output_type": "stream",
     "text": [
      "3091\n"
     ]
    }
   ],
   "source": [
    "#Drop specific Rows  with specific columns That \n",
    "\n",
    "trialDf = newDf.dropna(subset=['MAKEYEAR', 'BODY','DRIVE','COLOR','FUEL','BRANDNAME','GEARBOX','KM_INT'])\n",
    "print(len(trialDf))\n"
   ]
  },
  {
   "cell_type": "code",
   "execution_count": null,
   "metadata": {},
   "outputs": [],
   "source": [
    "\n",
    "import numpy as np\n",
    "import pandas as pd\n",
    "\n",
    "df2['KM_INT'] = pd.to_numeric(df2['KM_INT'], errors='coerce')\n",
    "df2['MAKEYEAR'] = pd.to_numeric(df2['MAKEYEAR'], errors='coerce')\n",
    "\n",
    "# Remove rows with NaN values (non-numeric values)\n",
    "df2 = df2.dropna(subset=['KM_INT', 'MAKEYEAR'])\n",
    "df2 = df2[(df2['KM_INT'] != 0) & (df['MAKEYEAR'] != 0)]\n",
    "\n",
    "print(df2.to_string())\n"
   ]
  },
  {
   "cell_type": "code",
   "execution_count": null,
   "metadata": {},
   "outputs": [],
   "source": [
    "#plot the data in scatter plot\n",
    "import matplotlib.pyplot as plt\n",
    "\n",
    "\n",
    "plt.scatter(df2[\"MAKEYEAR\"], df2[\"KM_INT\"])\n",
    "plt.show()"
   ]
  },
  {
   "cell_type": "code",
   "execution_count": null,
   "metadata": {},
   "outputs": [],
   "source": [
    "#Running Linear regression for Make year and km\n",
    "\n",
    "from sklearn.linear_model import LinearRegression\n",
    "from sklearn.model_selection import train_test_split\n",
    "from sklearn.metrics import mean_squared_error, r2_score\n",
    "import seaborn as sns\n",
    "\n",
    "X = df2['MAKEYEAR']\n",
    "y = df2[\"KM_INT\"]\n",
    "# print(X,y);\n",
    "sns.lmplot(x='MAKEYEAR', y='KM_INT', data=df2, ci=None, line_kws={'color': 'red'})\n",
    "plt.xlabel('Year')\n",
    "plt.ylabel('Distance Travelled')\n",
    "plt.title('Linear Regression: Year vs Distance Travelled')\n",
    "plt.show()"
   ]
  },
  {
   "cell_type": "code",
   "execution_count": null,
   "metadata": {},
   "outputs": [],
   "source": [
    "\n",
    "import pandas as pd\n",
    "from sklearn.model_selection import train_test_split\n",
    "from sklearn.linear_model import LinearRegression\n",
    "from sklearn import metrics\n",
    "import matplotlib.pyplot as plt\n",
    "\n",
    "years_2d = np.array(df2['MAKEYEAR']).reshape(-1, 1)\n",
    "X = years_2d  # Features\n",
    "y = df2['KM_INT']  # Target variable\n",
    "\n",
    "X_train, X_test, y_train, y_test = train_test_split(X, y, test_size=0.2, random_state=42)\n",
    "\n",
    "# Create a linear regression model\n",
    "model = LinearRegression()\n",
    "\n",
    "# By Earlier model using training set\n",
    "# # Train the model\n",
    "# model.fit(X_train, y_train)\n",
    "\n",
    "# # Make predictions on the test set\n",
    "# y_pred = model.predict(X_test)\n",
    "# print('Mean Absolute Error:', metrics.mean_absolute_error(y_test, y_pred))\n",
    "# print('Mean Squared Error:', metrics.mean_squared_error(y_test, y_pred))\n",
    "# print('Root Mean Squared Error:', metrics.mean_squared_error(y_test, y_pred, squared=False))\n",
    "\n",
    "\n",
    "# By Sagar Chapagain using initial set\n",
    "model.fit(X, y)\n",
    "y_pred = model.predict(X)\n",
    "\n",
    "r2=r2_score(y, y_pred);\n",
    "\n",
    "print(\"Number of samples in X:\", y_pred.shape[0])\n",
    "print(\"Number of samples in y:\", y.shape[0])\n",
    "# print('Mean Absolute Error:', metrics.mean_absolute_error(y_test, y_pred))\n",
    "# print('Mean Squared Error:', metrics.mean_squared_error(y_test, y_pred))\n",
    "# print('Root Mean Squared Error:', metrics.mean_squared_error(y_test, y_pred, squared=False))\n",
    "print(\"R2 score is : \",r2)\n",
    "\n",
    "#calculate r squared value\n",
    "# Evaluate the model\n",
    "\n",
    "# Plot the regression line\n",
    "plt.scatter(X_train, y_test, color='black')\n",
    "plt.plot(X_test, y_pred, color='blue', linewidth=3)\n",
    "plt.xlabel('Year')\n",
    "plt.ylabel('Distance Travelled')\n",
    "plt.title('Linear Regression: Year vs Distance Travelled')\n",
    "plt.show()"
   ]
  },
  {
   "cell_type": "code",
   "execution_count": null,
   "metadata": {},
   "outputs": [],
   "source": [
    "df2[\"MAKEYEAR\"].value_counts()\n"
   ]
  },
  {
   "cell_type": "code",
   "execution_count": null,
   "metadata": {},
   "outputs": [],
   "source": [
    "df2[\"KM_INT\"].describe()"
   ]
  },
  {
   "cell_type": "code",
   "execution_count": null,
   "metadata": {},
   "outputs": [],
   "source": [
    "zerokm_filter = (df2[\"KM_INT\"] == 0)\n",
    "\n",
    "df2[zerokm_filter]"
   ]
  },
  {
   "cell_type": "markdown",
   "metadata": {},
   "source": [
    "https://www.youtube.com/watch?v=Wqmtf9SA_kk&ab_channel=NeuralNine\n",
    "https://www.youtube.com/watch?v=xu0prYu5e-c&ab_channel=AliNasserEddine"
   ]
  }
 ],
 "metadata": {
  "kernelspec": {
   "display_name": "carsScrape-7_zlvukO",
   "language": "python",
   "name": "python3"
  },
  "language_info": {
   "codemirror_mode": {
    "name": "ipython",
    "version": 3
   },
   "file_extension": ".py",
   "mimetype": "text/x-python",
   "name": "python",
   "nbconvert_exporter": "python",
   "pygments_lexer": "ipython3",
   "version": "3.9.13"
  }
 },
 "nbformat": 4,
 "nbformat_minor": 2
}
