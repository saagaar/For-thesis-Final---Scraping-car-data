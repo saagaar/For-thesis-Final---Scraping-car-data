{
 "cells": [
  {
   "cell_type": "code",
   "execution_count": 1,
   "metadata": {},
   "outputs": [],
   "source": [
    "\n"
   ]
  },
  {
   "cell_type": "code",
   "execution_count": null,
   "metadata": {},
   "outputs": [],
   "source": [
    "# only Sheet that is  Updating for Nepali Cars sheet\n",
    "\n",
    "# import pandas as pd\n",
    "\n",
    "# # df = pd.read_csv('output_data_final.csv');\n",
    "# sheet_name_or_index = 1\n",
    "# df = pd.read_excel('output_data_final.xlsx',sheet_name='Nepali Cars Data')\n",
    "# brandName = []\n",
    "# for index, eachRow in df.iterrows():\n",
    "# # for title in df.title.head():\n",
    "#     title=eachRow['title']\n",
    "#     brandName=(title.split()[1])\n",
    "#     year=(title.split()[0])\n",
    "#     model = ' '.join(title.split()[2:4]) if len(title.split()) > 2 else ''\n",
    "#     df.at[index, 'brandName'] = brandName\n",
    "#     df.at[index, 'Make Year'] = year\n",
    "#     df.at[index, 'Model'] = model\n",
    "#     df.to_excel('update_nepali_cars_column.xlsx', index=False)"
   ]
  },
  {
   "cell_type": "code",
   "execution_count": 8,
   "metadata": {},
   "outputs": [],
   "source": [
    "import pandas as pd\n",
    "from xlsxwriter import Workbook\n",
    "\n",
    "dfs = pd.read_excel('output_data_final.xlsx', sheet_name=None)\n",
    "\n",
    "# Specify the sheet you want to update\n",
    "updating_sheet = 'Nepali Cars Data'\n",
    "\n",
    "# Extract the DataFrame for the specified sheet\n",
    "df = dfs[updating_sheet]\n",
    "brandName = []\n",
    "for index, eachRow in df.iterrows():\n",
    "    title = eachRow['title']\n",
    "    brandName = title.split()[1]\n",
    "    year = title.split()[0]\n",
    "    model = ' '.join(title.split()[2:4]) if len(title.split()) > 2 else ''\n",
    "    df.at[index, 'brandName'] = brandName\n",
    "    df.at[index, 'Make Year'] = year\n",
    "    df.at[index, 'Model'] = model\n",
    "\n",
    "# Save the updated DataFrame back to the Excel file\n",
    "with pd.ExcelWriter('v1-output-data-updated-column-nepalicars.xlsx', engine='xlsxwriter') as writer:\n",
    "    for sheet_name, df_sheet in dfs.items():\n",
    "        if sheet_name == updating_sheet:\n",
    "            # Save the updated DataFrame for the specified sheet\n",
    "            df.to_excel(writer, sheet_name=sheet_name, index=False)\n",
    "        else:\n",
    "            # Save the unchanged DataFrames for other sheets\n",
    "            df_sheet.to_excel(writer, sheet_name=sheet_name, index=False)"
   ]
  },
  {
   "cell_type": "code",
   "execution_count": 14,
   "metadata": {},
   "outputs": [
    {
     "data": {
      "text/plain": [
       "['Mitsubishi', 'Hyundai', 'Suzuki', 'Suzuki', 'Renault']"
      ]
     },
     "execution_count": 14,
     "metadata": {},
     "output_type": "execute_result"
    }
   ],
   "source": [
    "brandName"
   ]
  },
  {
   "cell_type": "code",
   "execution_count": null,
   "metadata": {},
   "outputs": [],
   "source": []
  }
 ],
 "metadata": {
  "kernelspec": {
   "display_name": "Python 3",
   "language": "python",
   "name": "python3"
  },
  "language_info": {
   "codemirror_mode": {
    "name": "ipython",
    "version": 3
   },
   "file_extension": ".py",
   "mimetype": "text/x-python",
   "name": "python",
   "nbconvert_exporter": "python",
   "pygments_lexer": "ipython3",
   "version": "3.9.13"
  }
 },
 "nbformat": 4,
 "nbformat_minor": 2
}
